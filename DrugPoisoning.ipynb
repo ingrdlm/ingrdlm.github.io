{
 "cells": [
  {
   "cell_type": "markdown",
   "metadata": {},
   "source": [
    "<h1>Analyzing Drug Poisoning Mortality in the United States for Years 1999-2015</h1>\n",
    "<img src=\"http://pinnacleemergency.co/wp-content/uploads/2016/07/Drug-Overdose.jpg\" alt=\"drug\" width=\"242\" height=\"242\" style=\"float:left\">\n",
    "<img src=\"http://www.womenshealth.northwestern.edu/sites/womenshealth/files/wp-content/uploads/2010/03/pillsiStock_000003993552Small-300x199.jpg\" alt=\"drug\" width=\"242\" height=\"242\" style=\"float:left\">\n",
    "<img src=\"https://images.emedicinehealth.com/images/slideshow/prescription-drug-abuse-s1-what-is.jpg\" alt=\"drug\" width=\"242\" height=\"242\" style=\"float:left\">\n",
    "<img src=\"https://www.drugabuse.com/wp-content/uploads/drugabuse-shutter399858829-overdose.jpg\" alt=\"drug\" width=\"242\" height=\"242\" style=\"float:left\">"
   ]
  },
  {
   "cell_type": "markdown",
   "metadata": {},
   "source": [
    "<h2>Liya Ketema &amp; Ingrid Lim</h2>\n",
    "<h3>December 16, 2017</h3>"
   ]
  },
  {
   "cell_type": "markdown",
   "metadata": {},
   "source": [
    "<h2>Introduction</h2>\n",
    "<p>Reports of drug poisoning, more commonly known as drug overdose, have been said to be more rampant recently. In this tutorial, we will explore whether there is a trend of drug poisoning mortality in the United States while considering factors such as age, sex, and race. We will also look motality per state in order to narrow down regions with highest increase throughout sixteen years between 1999 and 2015. \n",
    "\n",
    "In this tutorial, we are covering the following:\n",
    "<ul>\n",
    "    <li>We would first show how to collect and wrangle the data</li>\n",
    "    <li>Using that data, we would then process, conduct analysis and visualize the data</li>\n",
    "    <li>Based on the results from the previous step, we would come up with a hypothesis to test.\n",
    "    <li>Last but not the least, we would then demonstrate how to test the given hypothesis using machine learning</li> \n",
    "</ul>\n",
    "\n",
    "<h2>Tools Required:</h2>\n",
    "<ul>\n",
    "<li> Python 3.5 with the following libraries:\n",
    "    <ul>\n",
    "    <li>pandas</li>\n",
    "    <li>numpy</li>\n",
    "    <li>matplotlib.pyplot</li>\n",
    "    <li>scikit-learn</li> \n",
    "    <li>plotly\n",
    "        <ul> <li>If using Anaconda Python package, this library is included. However, if using docker, plotly has to be !pip installed before each use (shown below).</li>\n",
    "        <li>The heat maps in this tutorial requires an online account and api key set on machine. Follow instructions <a href=\"https://plot.ly/pandas/getting-started/\"> here</a>.\n",
    "        </ul>\n",
    "    <li>Scipy.stats\n",
    "    </ul>\n",
    "</li>\n",
    "<li> The Drug Poisoning Mortality Dataset, which can be downloaded from <a href='https://catalog.data.gov/dataset/drug-poisoning-mortality-u-s-and-state-trends-united-states-20022014'>here</a>. Make sure to download the CSV file.</li>\n",
    "</ul>\n",
    "<p><i>If you want to explore the libraries listed above, all tutorials for the libraries will be linked in the <a href=\"#references\">References</a> section down below.</i></p>"
   ]
  },
  {
   "cell_type": "markdown",
   "metadata": {},
   "source": [
    "<h2>1. Data Collection and Wrangling</h2>\n",
    "<p>To get started, import the following libraries that you have installed below. </p>"
   ]
  },
  {
   "cell_type": "code",
   "execution_count": 41,
   "metadata": {},
   "outputs": [
    {
     "name": "stdout",
     "output_type": "stream",
     "text": [
      "Requirement already satisfied: plotly in /opt/conda/lib/python3.6/site-packages\n",
      "Requirement already satisfied: six in /opt/conda/lib/python3.6/site-packages (from plotly)\n",
      "Requirement already satisfied: decorator>=4.0.6 in /opt/conda/lib/python3.6/site-packages (from plotly)\n",
      "Requirement already satisfied: nbformat>=4.2 in /opt/conda/lib/python3.6/site-packages (from plotly)\n",
      "Requirement already satisfied: requests in /opt/conda/lib/python3.6/site-packages (from plotly)\n",
      "Requirement already satisfied: pytz in /opt/conda/lib/python3.6/site-packages (from plotly)\n",
      "Requirement already satisfied: jsonschema!=2.5.0,>=2.4 in /opt/conda/lib/python3.6/site-packages (from nbformat>=4.2->plotly)\n",
      "Requirement already satisfied: jupyter-core in /opt/conda/lib/python3.6/site-packages (from nbformat>=4.2->plotly)\n",
      "Requirement already satisfied: ipython-genutils in /opt/conda/lib/python3.6/site-packages (from nbformat>=4.2->plotly)\n",
      "Requirement already satisfied: traitlets>=4.1 in /opt/conda/lib/python3.6/site-packages (from nbformat>=4.2->plotly)\n",
      "Requirement already satisfied: chardet<3.1.0,>=3.0.2 in /opt/conda/lib/python3.6/site-packages (from requests->plotly)\n",
      "Requirement already satisfied: idna<2.7,>=2.5 in /opt/conda/lib/python3.6/site-packages (from requests->plotly)\n",
      "Requirement already satisfied: urllib3<1.23,>=1.21.1 in /opt/conda/lib/python3.6/site-packages (from requests->plotly)\n",
      "Requirement already satisfied: certifi>=2017.4.17 in /opt/conda/lib/python3.6/site-packages (from requests->plotly)\n"
     ]
    },
    {
     "data": {
      "text/html": [
       "<script>requirejs.config({paths: { 'plotly': ['https://cdn.plot.ly/plotly-latest.min']},});if(!window.Plotly) {{require(['plotly'],function(plotly) {window.Plotly=plotly;});}}</script>"
      ],
      "text/vnd.plotly.v1+html": [
       "<script>requirejs.config({paths: { 'plotly': ['https://cdn.plot.ly/plotly-latest.min']},});if(!window.Plotly) {{require(['plotly'],function(plotly) {window.Plotly=plotly;});}}</script>"
      ]
     },
     "metadata": {},
     "output_type": "display_data"
    }
   ],
   "source": [
    "# If using Anaconda, comment line command below.\n",
    "# If using Docker, use this command for viewing maps:\n",
    "!pip install plotly \n",
    "\n",
    "import pandas as pd # Use dataframes\n",
    "import numpy as np # For mathematical operations on arrays\n",
    "import matplotlib.pyplot as plt # To visualize data\n",
    "import re # Regular expression - sorting of some sort\n",
    "from sklearn import linear_model  # Linear regression - best fit line\n",
    "import plotly \n",
    "from scipy.stats import chisquare # Statistics testing.\n",
    "\n",
    "plotly.offline.init_notebook_mode(connected=True) # Run the plotly maps in offline mode for jupyter notebook display"
   ]
  },
  {
   "cell_type": "markdown",
   "metadata": {},
   "source": [
    "<a name=\"collect\"></a><h3>1.1 Data Collection</h3>\n",
    "<p>The first step is to read the data contained in the downloaded comma separated value (CSV) file and convert it into a pandas dataframe structure. This will allow us to manipulate the data easier. Some caution: for convenience, the name of the downloaded file has been slightly changed for readbility.</p>"
   ]
  },
  {
   "cell_type": "code",
   "execution_count": 42,
   "metadata": {},
   "outputs": [
    {
     "data": {
      "text/html": [
       "<div>\n",
       "<table border=\"1\" class=\"dataframe\">\n",
       "  <thead>\n",
       "    <tr style=\"text-align: right;\">\n",
       "      <th></th>\n",
       "      <th>Year</th>\n",
       "      <th>Sex</th>\n",
       "      <th>Age</th>\n",
       "      <th>Race and Hispanic Origin</th>\n",
       "      <th>State</th>\n",
       "      <th>Deaths</th>\n",
       "      <th>Population</th>\n",
       "      <th>Crude Death Rate</th>\n",
       "      <th>Standard Error for Crude Rate</th>\n",
       "      <th>Low Confidence Limit for Crude Rate</th>\n",
       "      <th>Upper Confidence Limit for Crude Rate</th>\n",
       "      <th>Age-adjusted Rate</th>\n",
       "      <th>Standard Error Age-adjusted Rate</th>\n",
       "      <th>Lower Confidence Limit for Age-adjusted rate</th>\n",
       "      <th>Upper Confidence Limit for Age-adjusted Rate</th>\n",
       "      <th>State Crude Rate in Range</th>\n",
       "      <th>US Crude Rate</th>\n",
       "      <th>US Age-adjusted Rate</th>\n",
       "    </tr>\n",
       "  </thead>\n",
       "  <tbody>\n",
       "    <tr>\n",
       "      <th>0</th>\n",
       "      <td>1999</td>\n",
       "      <td>Both Sexes</td>\n",
       "      <td>All Ages</td>\n",
       "      <td>All Races-All Origins</td>\n",
       "      <td>Alabama</td>\n",
       "      <td>169</td>\n",
       "      <td>4430143</td>\n",
       "      <td>3.8</td>\n",
       "      <td>0.3</td>\n",
       "      <td>3.2</td>\n",
       "      <td>4.4</td>\n",
       "      <td>3.9</td>\n",
       "      <td>0.3</td>\n",
       "      <td>3.3</td>\n",
       "      <td>4.4</td>\n",
       "      <td>1.8–7</td>\n",
       "      <td>6.0</td>\n",
       "      <td>6.1</td>\n",
       "    </tr>\n",
       "    <tr>\n",
       "      <th>1</th>\n",
       "      <td>2000</td>\n",
       "      <td>Both Sexes</td>\n",
       "      <td>All Ages</td>\n",
       "      <td>All Races-All Origins</td>\n",
       "      <td>Alabama</td>\n",
       "      <td>197</td>\n",
       "      <td>4447100</td>\n",
       "      <td>4.4</td>\n",
       "      <td>0.3</td>\n",
       "      <td>3.8</td>\n",
       "      <td>5.0</td>\n",
       "      <td>4.5</td>\n",
       "      <td>0.3</td>\n",
       "      <td>3.9</td>\n",
       "      <td>5.1</td>\n",
       "      <td>1.8–7</td>\n",
       "      <td>6.2</td>\n",
       "      <td>6.2</td>\n",
       "    </tr>\n",
       "    <tr>\n",
       "      <th>2</th>\n",
       "      <td>2001</td>\n",
       "      <td>Both Sexes</td>\n",
       "      <td>All Ages</td>\n",
       "      <td>All Races-All Origins</td>\n",
       "      <td>Alabama</td>\n",
       "      <td>216</td>\n",
       "      <td>4467634</td>\n",
       "      <td>4.8</td>\n",
       "      <td>0.3</td>\n",
       "      <td>4.2</td>\n",
       "      <td>5.5</td>\n",
       "      <td>4.9</td>\n",
       "      <td>0.3</td>\n",
       "      <td>4.2</td>\n",
       "      <td>5.5</td>\n",
       "      <td>1.8–7</td>\n",
       "      <td>6.8</td>\n",
       "      <td>6.8</td>\n",
       "    </tr>\n",
       "    <tr>\n",
       "      <th>3</th>\n",
       "      <td>2002</td>\n",
       "      <td>Both Sexes</td>\n",
       "      <td>All Ages</td>\n",
       "      <td>All Races-All Origins</td>\n",
       "      <td>Alabama</td>\n",
       "      <td>211</td>\n",
       "      <td>4480089</td>\n",
       "      <td>4.7</td>\n",
       "      <td>0.3</td>\n",
       "      <td>4.1</td>\n",
       "      <td>5.3</td>\n",
       "      <td>4.8</td>\n",
       "      <td>0.3</td>\n",
       "      <td>4.1</td>\n",
       "      <td>5.4</td>\n",
       "      <td>1.8–7</td>\n",
       "      <td>8.2</td>\n",
       "      <td>8.2</td>\n",
       "    </tr>\n",
       "    <tr>\n",
       "      <th>4</th>\n",
       "      <td>2003</td>\n",
       "      <td>Both Sexes</td>\n",
       "      <td>All Ages</td>\n",
       "      <td>All Races-All Origins</td>\n",
       "      <td>Alabama</td>\n",
       "      <td>197</td>\n",
       "      <td>4503491</td>\n",
       "      <td>4.4</td>\n",
       "      <td>0.3</td>\n",
       "      <td>3.8</td>\n",
       "      <td>5.0</td>\n",
       "      <td>4.4</td>\n",
       "      <td>0.3</td>\n",
       "      <td>3.8</td>\n",
       "      <td>5.1</td>\n",
       "      <td>1.8–7</td>\n",
       "      <td>8.9</td>\n",
       "      <td>8.9</td>\n",
       "    </tr>\n",
       "  </tbody>\n",
       "</table>\n",
       "</div>"
      ],
      "text/plain": [
       "   Year         Sex       Age Race and Hispanic Origin    State  Deaths  \\\n",
       "0  1999  Both Sexes  All Ages    All Races-All Origins  Alabama     169   \n",
       "1  2000  Both Sexes  All Ages    All Races-All Origins  Alabama     197   \n",
       "2  2001  Both Sexes  All Ages    All Races-All Origins  Alabama     216   \n",
       "3  2002  Both Sexes  All Ages    All Races-All Origins  Alabama     211   \n",
       "4  2003  Both Sexes  All Ages    All Races-All Origins  Alabama     197   \n",
       "\n",
       "   Population  Crude Death Rate  Standard Error for Crude Rate  \\\n",
       "0     4430143               3.8                            0.3   \n",
       "1     4447100               4.4                            0.3   \n",
       "2     4467634               4.8                            0.3   \n",
       "3     4480089               4.7                            0.3   \n",
       "4     4503491               4.4                            0.3   \n",
       "\n",
       "   Low Confidence Limit for Crude Rate  Upper Confidence Limit for Crude Rate  \\\n",
       "0                                  3.2                                    4.4   \n",
       "1                                  3.8                                    5.0   \n",
       "2                                  4.2                                    5.5   \n",
       "3                                  4.1                                    5.3   \n",
       "4                                  3.8                                    5.0   \n",
       "\n",
       "   Age-adjusted Rate  Standard Error Age-adjusted Rate  \\\n",
       "0                3.9                               0.3   \n",
       "1                4.5                               0.3   \n",
       "2                4.9                               0.3   \n",
       "3                4.8                               0.3   \n",
       "4                4.4                               0.3   \n",
       "\n",
       "   Lower Confidence Limit for Age-adjusted rate  \\\n",
       "0                                           3.3   \n",
       "1                                           3.9   \n",
       "2                                           4.2   \n",
       "3                                           4.1   \n",
       "4                                           3.8   \n",
       "\n",
       "   Upper Confidence Limit for Age-adjusted Rate State Crude Rate in Range  \\\n",
       "0                                           4.4                     1.8–7   \n",
       "1                                           5.1                     1.8–7   \n",
       "2                                           5.5                     1.8–7   \n",
       "3                                           5.4                     1.8–7   \n",
       "4                                           5.1                     1.8–7   \n",
       "\n",
       "   US Crude Rate  US Age-adjusted Rate  \n",
       "0            6.0                   6.1  \n",
       "1            6.2                   6.2  \n",
       "2            6.8                   6.8  \n",
       "3            8.2                   8.2  \n",
       "4            8.9                   8.9  "
      ]
     },
     "execution_count": 42,
     "metadata": {},
     "output_type": "execute_result"
    }
   ],
   "source": [
    "drug_poison_df = pd.read_csv('NCHS_Drug_Poisoning_Mortality_by_State_United_States.csv')\n",
    "drug_poison_df.head() # shows the first five entries of the data frame"
   ]
  },
  {
   "cell_type": "markdown",
   "metadata": {},
   "source": [
    "<p></p><p>As shown above, the table contains several standard error calculations, which we will not be looking at. We are going to drop those columns in order to have a cleaner, more organized dataframe. To do this, we are going to use 'drop' starting at the 'Crude Death Rate' column (7) all the way up to 'US Age-adjusted Rate' column (18). </p>"
   ]
  },
  {
   "cell_type": "code",
   "execution_count": 43,
   "metadata": {},
   "outputs": [
    {
     "data": {
      "text/html": [
       "<div>\n",
       "<table border=\"1\" class=\"dataframe\">\n",
       "  <thead>\n",
       "    <tr style=\"text-align: right;\">\n",
       "      <th></th>\n",
       "      <th>Year</th>\n",
       "      <th>Sex</th>\n",
       "      <th>Age</th>\n",
       "      <th>Race and Hispanic Origin</th>\n",
       "      <th>State</th>\n",
       "      <th>Deaths</th>\n",
       "      <th>Population</th>\n",
       "    </tr>\n",
       "  </thead>\n",
       "  <tbody>\n",
       "    <tr>\n",
       "      <th>0</th>\n",
       "      <td>1999</td>\n",
       "      <td>Both Sexes</td>\n",
       "      <td>All Ages</td>\n",
       "      <td>All Races-All Origins</td>\n",
       "      <td>Alabama</td>\n",
       "      <td>169</td>\n",
       "      <td>4430143</td>\n",
       "    </tr>\n",
       "    <tr>\n",
       "      <th>1</th>\n",
       "      <td>2000</td>\n",
       "      <td>Both Sexes</td>\n",
       "      <td>All Ages</td>\n",
       "      <td>All Races-All Origins</td>\n",
       "      <td>Alabama</td>\n",
       "      <td>197</td>\n",
       "      <td>4447100</td>\n",
       "    </tr>\n",
       "    <tr>\n",
       "      <th>2</th>\n",
       "      <td>2001</td>\n",
       "      <td>Both Sexes</td>\n",
       "      <td>All Ages</td>\n",
       "      <td>All Races-All Origins</td>\n",
       "      <td>Alabama</td>\n",
       "      <td>216</td>\n",
       "      <td>4467634</td>\n",
       "    </tr>\n",
       "    <tr>\n",
       "      <th>3</th>\n",
       "      <td>2002</td>\n",
       "      <td>Both Sexes</td>\n",
       "      <td>All Ages</td>\n",
       "      <td>All Races-All Origins</td>\n",
       "      <td>Alabama</td>\n",
       "      <td>211</td>\n",
       "      <td>4480089</td>\n",
       "    </tr>\n",
       "    <tr>\n",
       "      <th>4</th>\n",
       "      <td>2003</td>\n",
       "      <td>Both Sexes</td>\n",
       "      <td>All Ages</td>\n",
       "      <td>All Races-All Origins</td>\n",
       "      <td>Alabama</td>\n",
       "      <td>197</td>\n",
       "      <td>4503491</td>\n",
       "    </tr>\n",
       "  </tbody>\n",
       "</table>\n",
       "</div>"
      ],
      "text/plain": [
       "   Year         Sex       Age Race and Hispanic Origin    State  Deaths  \\\n",
       "0  1999  Both Sexes  All Ages    All Races-All Origins  Alabama     169   \n",
       "1  2000  Both Sexes  All Ages    All Races-All Origins  Alabama     197   \n",
       "2  2001  Both Sexes  All Ages    All Races-All Origins  Alabama     216   \n",
       "3  2002  Both Sexes  All Ages    All Races-All Origins  Alabama     211   \n",
       "4  2003  Both Sexes  All Ages    All Races-All Origins  Alabama     197   \n",
       "\n",
       "   Population  \n",
       "0     4430143  \n",
       "1     4447100  \n",
       "2     4467634  \n",
       "3     4480089  \n",
       "4     4503491  "
      ]
     },
     "execution_count": 43,
     "metadata": {},
     "output_type": "execute_result"
    }
   ],
   "source": [
    "# There are total of 18 columns, drop all columns after 'Population' -- which is after column number 7\n",
    "drug_poison_df.drop(drug_poison_df.columns[7:18], axis=1, inplace=True)\n",
    "drug_poison_df.head()"
   ]
  },
  {
   "cell_type": "markdown",
   "metadata": {},
   "source": [
    "<p> After the cleanup, we can see that the table has drug posioning death examined for multiple variables: such as year, state, age, and race. We will be dividing by these variables and examining the death rate variation among them. Before doing so, we want to fist see which unique categories are contained within each variable. This will be done by using the pandas builtin unique() function.</p>"
   ]
  },
  {
   "cell_type": "code",
   "execution_count": 44,
   "metadata": {},
   "outputs": [
    {
     "name": "stdout",
     "output_type": "stream",
     "text": [
      "\n",
      "Unique Years from which data was obtained from: \n",
      "\t [1999, 2000, 2001, 2002, 2003, 2004, 2005, 2006, 2007, 2008, 2009, 2010, 2011, 2012, 2013, 2014, 2015]\n",
      "Unique Sex category: \n",
      "\t ['Both Sexes', 'Female', 'Male']\n",
      "Unique Age groups: \n",
      "\t ['All Ages', 'Less than 15 years', '15-24 years', '25-34 years', '35-44 years', '45-54 years', '55-64 years', '65-74 years', '75+ years']\n",
      "Unique Race and Hispanic Origin: \n",
      "\t ['All Races-All Origins', 'Hispanic', 'Non-Hispanic Black', 'Non-Hispanic White']\n",
      "\n",
      "Unique state catogries: \n",
      "\t ['Alabama', 'Alaska', 'Arizona', 'Arkansas', 'California', 'Colorado', 'Connecticut', 'Delaware', 'District of Columbia', 'Florida', 'Georgia', 'Hawaii', 'Idaho', 'United States', 'Illinois', 'Indiana', 'Iowa', 'Kansas', 'Kentucky', 'Louisiana', 'Maine', 'Maryland', 'Massachusetts', 'Michigan', 'Minnesota', 'Mississippi', 'Missouri', 'Montana', 'Nebraska', 'Nevada', 'New Hampshire', 'New Jersey', 'New Mexico', 'New York', 'North Carolina', 'North Dakota', 'Ohio', 'Oklahoma', 'Oregon', 'Pennsylvania', 'Rhode Island', 'South Carolina', 'South Dakota', 'Tennessee', 'Texas', 'Utah', 'Vermont', 'Virginia', 'Washington', 'West Virginia', 'Wisconsin', 'Wyoming']\n"
     ]
    }
   ],
   "source": [
    "# Obtain unique values used for each category and display by printing..\n",
    "years = drug_poison_df.Year.unique().tolist()\n",
    "print(\"\\nUnique Years from which data was obtained from: \\n\\t\", years )\n",
    "\n",
    "sex = drug_poison_df.Sex.unique().tolist()\n",
    "print(\"Unique Sex category: \\n\\t\", sex)\n",
    "\n",
    "age = drug_poison_df.Age.unique().tolist()\n",
    "print(\"Unique Age groups: \\n\\t\", age)\n",
    "\n",
    "race = drug_poison_df['Race and Hispanic Origin'].unique().tolist()\n",
    "print(\"Unique Race and Hispanic Origin: \\n\\t\", race)\n",
    "\n",
    "states = drug_poison_df.State.unique().tolist()\n",
    "print(\"\\nUnique state catogries: \\n\\t\", states)"
   ]
  },
  {
   "cell_type": "markdown",
   "metadata": {},
   "source": [
    "<p>The states from the data are given by either each of the 50 states &amp; DC and United States as a whole, we have to remove United States from the list of states. This step is necessary to avoid double counting the number of deaths by drug poisoning. But we will keep DC as a state.</p>"
   ]
  },
  {
   "cell_type": "code",
   "execution_count": 45,
   "metadata": {},
   "outputs": [
    {
     "name": "stdout",
     "output_type": "stream",
     "text": [
      "States after removal of US : \n",
      "\t ['Alabama', 'Alaska', 'Arizona', 'Arkansas', 'California', 'Colorado', 'Connecticut', 'Delaware', 'District of Columbia', 'Florida', 'Georgia', 'Hawaii', 'Idaho', 'Illinois', 'Indiana', 'Iowa', 'Kansas', 'Kentucky', 'Louisiana', 'Maine', 'Maryland', 'Massachusetts', 'Michigan', 'Minnesota', 'Mississippi', 'Missouri', 'Montana', 'Nebraska', 'Nevada', 'New Hampshire', 'New Jersey', 'New Mexico', 'New York', 'North Carolina', 'North Dakota', 'Ohio', 'Oklahoma', 'Oregon', 'Pennsylvania', 'Rhode Island', 'South Carolina', 'South Dakota', 'Tennessee', 'Texas', 'Utah', 'Vermont', 'Virginia', 'Washington', 'West Virginia', 'Wisconsin', 'Wyoming']\n"
     ]
    }
   ],
   "source": [
    "states = [state for state in states if state != 'United States']\n",
    "print(\"States after removal of US : \\n\\t\", states)"
   ]
  },
  {
   "cell_type": "markdown",
   "metadata": {},
   "source": [
    "<h3>1.2 Data Wrangling </h3>\n",
    "<p>Now we are going to start grouping the data into different variables, which we will use later as part of our analysis.</p>"
   ]
  },
  {
   "cell_type": "markdown",
   "metadata": {},
   "source": [
    "<p>First we are going to group the data per year by using the groupby function and get_group() to get each individual group by year. This will solely group the United States' mortality rate per year - for both sexes, all age groups, and all races.</p>"
   ]
  },
  {
   "cell_type": "code",
   "execution_count": 46,
   "metadata": {},
   "outputs": [
    {
     "data": {
      "text/html": [
       "<div>\n",
       "<table border=\"1\" class=\"dataframe\">\n",
       "  <thead>\n",
       "    <tr style=\"text-align: right;\">\n",
       "      <th></th>\n",
       "      <th>Year</th>\n",
       "      <th>Sex</th>\n",
       "      <th>Age</th>\n",
       "      <th>Race and Hispanic Origin</th>\n",
       "      <th>State</th>\n",
       "      <th>Deaths</th>\n",
       "      <th>Population</th>\n",
       "    </tr>\n",
       "  </thead>\n",
       "  <tbody>\n",
       "    <tr>\n",
       "      <th>0</th>\n",
       "      <td>1999</td>\n",
       "      <td>Both Sexes</td>\n",
       "      <td>All Ages</td>\n",
       "      <td>All Races-All Origins</td>\n",
       "      <td>United States</td>\n",
       "      <td>16849</td>\n",
       "      <td>279040238</td>\n",
       "    </tr>\n",
       "    <tr>\n",
       "      <th>1</th>\n",
       "      <td>2000</td>\n",
       "      <td>Both Sexes</td>\n",
       "      <td>All Ages</td>\n",
       "      <td>All Races-All Origins</td>\n",
       "      <td>United States</td>\n",
       "      <td>17415</td>\n",
       "      <td>281421906</td>\n",
       "    </tr>\n",
       "    <tr>\n",
       "      <th>2</th>\n",
       "      <td>2001</td>\n",
       "      <td>Both Sexes</td>\n",
       "      <td>All Ages</td>\n",
       "      <td>All Races-All Origins</td>\n",
       "      <td>United States</td>\n",
       "      <td>19394</td>\n",
       "      <td>284968955</td>\n",
       "    </tr>\n",
       "    <tr>\n",
       "      <th>3</th>\n",
       "      <td>2002</td>\n",
       "      <td>Both Sexes</td>\n",
       "      <td>All Ages</td>\n",
       "      <td>All Races-All Origins</td>\n",
       "      <td>United States</td>\n",
       "      <td>23518</td>\n",
       "      <td>287625193</td>\n",
       "    </tr>\n",
       "    <tr>\n",
       "      <th>4</th>\n",
       "      <td>2003</td>\n",
       "      <td>Both Sexes</td>\n",
       "      <td>All Ages</td>\n",
       "      <td>All Races-All Origins</td>\n",
       "      <td>United States</td>\n",
       "      <td>25785</td>\n",
       "      <td>290107933</td>\n",
       "    </tr>\n",
       "  </tbody>\n",
       "</table>\n",
       "</div>"
      ],
      "text/plain": [
       "   Year         Sex       Age Race and Hispanic Origin          State  Deaths  \\\n",
       "0  1999  Both Sexes  All Ages    All Races-All Origins  United States   16849   \n",
       "1  2000  Both Sexes  All Ages    All Races-All Origins  United States   17415   \n",
       "2  2001  Both Sexes  All Ages    All Races-All Origins  United States   19394   \n",
       "3  2002  Both Sexes  All Ages    All Races-All Origins  United States   23518   \n",
       "4  2003  Both Sexes  All Ages    All Races-All Origins  United States   25785   \n",
       "\n",
       "   Population  \n",
       "0   279040238  \n",
       "1   281421906  \n",
       "2   284968955  \n",
       "3   287625193  \n",
       "4   290107933  "
      ]
     },
     "execution_count": 46,
     "metadata": {},
     "output_type": "execute_result"
    }
   ],
   "source": [
    "# Groupby will separate these categories into dataframes\n",
    "gr_year = drug_poison_df.groupby(['Year','Sex','Age','Race and Hispanic Origin', 'State'])\n",
    "# Initialize the data frame by creating one for 1999\n",
    "df_year = gr_year.get_group((1999, 'Both Sexes', 'All Ages', 'All Races-All Origins', 'United States'))\n",
    "\n",
    "# We need to get each data frame for each year and append them together into df_year dataframe\n",
    "for year in years:\n",
    "    if year != 1999:\n",
    "        temp_df = gr_year.get_group((year, 'Both Sexes', 'All Ages', 'All Races-All Origins', 'United States'))\n",
    "        df_year = df_year.append(temp_df, ignore_index=True)\n",
    "\n",
    "df_year.head()"
   ]
  },
  {
   "cell_type": "markdown",
   "metadata": {},
   "source": [
    "Now we will group the data by states to create one dataframe which contains data for each state from 1999-2015. All other factors are kept neutral, meaning that we will be looking at data for both sexes, all ages and all races. "
   ]
  },
  {
   "cell_type": "code",
   "execution_count": 47,
   "metadata": {},
   "outputs": [
    {
     "data": {
      "text/html": [
       "<div>\n",
       "<table border=\"1\" class=\"dataframe\">\n",
       "  <thead>\n",
       "    <tr style=\"text-align: right;\">\n",
       "      <th></th>\n",
       "      <th>Year</th>\n",
       "      <th>Sex</th>\n",
       "      <th>Age</th>\n",
       "      <th>Race and Hispanic Origin</th>\n",
       "      <th>State</th>\n",
       "      <th>Deaths</th>\n",
       "      <th>Population</th>\n",
       "    </tr>\n",
       "  </thead>\n",
       "  <tbody>\n",
       "    <tr>\n",
       "      <th>0</th>\n",
       "      <td>1999</td>\n",
       "      <td>Both Sexes</td>\n",
       "      <td>All Ages</td>\n",
       "      <td>All Races-All Origins</td>\n",
       "      <td>Alabama</td>\n",
       "      <td>169</td>\n",
       "      <td>4430143</td>\n",
       "    </tr>\n",
       "    <tr>\n",
       "      <th>1</th>\n",
       "      <td>2000</td>\n",
       "      <td>Both Sexes</td>\n",
       "      <td>All Ages</td>\n",
       "      <td>All Races-All Origins</td>\n",
       "      <td>Alabama</td>\n",
       "      <td>197</td>\n",
       "      <td>4447100</td>\n",
       "    </tr>\n",
       "    <tr>\n",
       "      <th>2</th>\n",
       "      <td>2001</td>\n",
       "      <td>Both Sexes</td>\n",
       "      <td>All Ages</td>\n",
       "      <td>All Races-All Origins</td>\n",
       "      <td>Alabama</td>\n",
       "      <td>216</td>\n",
       "      <td>4467634</td>\n",
       "    </tr>\n",
       "    <tr>\n",
       "      <th>3</th>\n",
       "      <td>2002</td>\n",
       "      <td>Both Sexes</td>\n",
       "      <td>All Ages</td>\n",
       "      <td>All Races-All Origins</td>\n",
       "      <td>Alabama</td>\n",
       "      <td>211</td>\n",
       "      <td>4480089</td>\n",
       "    </tr>\n",
       "    <tr>\n",
       "      <th>4</th>\n",
       "      <td>2003</td>\n",
       "      <td>Both Sexes</td>\n",
       "      <td>All Ages</td>\n",
       "      <td>All Races-All Origins</td>\n",
       "      <td>Alabama</td>\n",
       "      <td>197</td>\n",
       "      <td>4503491</td>\n",
       "    </tr>\n",
       "  </tbody>\n",
       "</table>\n",
       "</div>"
      ],
      "text/plain": [
       "   Year         Sex       Age Race and Hispanic Origin    State  Deaths  \\\n",
       "0  1999  Both Sexes  All Ages    All Races-All Origins  Alabama     169   \n",
       "1  2000  Both Sexes  All Ages    All Races-All Origins  Alabama     197   \n",
       "2  2001  Both Sexes  All Ages    All Races-All Origins  Alabama     216   \n",
       "3  2002  Both Sexes  All Ages    All Races-All Origins  Alabama     211   \n",
       "4  2003  Both Sexes  All Ages    All Races-All Origins  Alabama     197   \n",
       "\n",
       "   Population  \n",
       "0     4430143  \n",
       "1     4447100  \n",
       "2     4467634  \n",
       "3     4480089  \n",
       "4     4503491  "
      ]
     },
     "execution_count": 47,
     "metadata": {},
     "output_type": "execute_result"
    }
   ],
   "source": [
    "# Get states\n",
    "gr_state = drug_poison_df.groupby('State')\n",
    "# Initialize df_states -- collects all other dataframes for each state\n",
    "df_states = gr_state.get_group('Alabama')\n",
    "\n",
    "# For each state\n",
    "for state in states:\n",
    "    if state != 'Alabama':\n",
    "        temp_df = gr_state.get_group(state)\n",
    "        # append to the rest of the data frames contaning the states\n",
    "        df_states = df_states.append(temp_df,  ignore_index=True)\n",
    "\n",
    "df_states.head()"
   ]
  },
  {
   "cell_type": "markdown",
   "metadata": {},
   "source": [
    "<p>Then, we will group by sex: either male or female. This ignores the 'Both Sexes' category to avoid duplications of data. The data frames divided by male or female are also subdivided into age groups and race/origin by year. We will look at the number of deaths per year for all ages and all races, all origins for each sex similar to the year and state variables.</p>"
   ]
  },
  {
   "cell_type": "code",
   "execution_count": 48,
   "metadata": {},
   "outputs": [
    {
     "data": {
      "text/html": [
       "<div>\n",
       "<table border=\"1\" class=\"dataframe\">\n",
       "  <thead>\n",
       "    <tr style=\"text-align: right;\">\n",
       "      <th></th>\n",
       "      <th>Year</th>\n",
       "      <th>Sex</th>\n",
       "      <th>Age</th>\n",
       "      <th>Race and Hispanic Origin</th>\n",
       "      <th>State</th>\n",
       "      <th>Deaths</th>\n",
       "      <th>Population</th>\n",
       "    </tr>\n",
       "  </thead>\n",
       "  <tbody>\n",
       "    <tr>\n",
       "      <th>0</th>\n",
       "      <td>1999</td>\n",
       "      <td>Male</td>\n",
       "      <td>All Ages</td>\n",
       "      <td>All Races-All Origins</td>\n",
       "      <td>United States</td>\n",
       "      <td>11258</td>\n",
       "      <td>136802891</td>\n",
       "    </tr>\n",
       "    <tr>\n",
       "      <th>1</th>\n",
       "      <td>2000</td>\n",
       "      <td>Male</td>\n",
       "      <td>All Ages</td>\n",
       "      <td>All Races-All Origins</td>\n",
       "      <td>United States</td>\n",
       "      <td>11563</td>\n",
       "      <td>138053563</td>\n",
       "    </tr>\n",
       "    <tr>\n",
       "      <th>2</th>\n",
       "      <td>2001</td>\n",
       "      <td>Male</td>\n",
       "      <td>All Ages</td>\n",
       "      <td>All Races-All Origins</td>\n",
       "      <td>United States</td>\n",
       "      <td>12658</td>\n",
       "      <td>139891492</td>\n",
       "    </tr>\n",
       "    <tr>\n",
       "      <th>3</th>\n",
       "      <td>2002</td>\n",
       "      <td>Male</td>\n",
       "      <td>All Ages</td>\n",
       "      <td>All Races-All Origins</td>\n",
       "      <td>United States</td>\n",
       "      <td>15028</td>\n",
       "      <td>141230559</td>\n",
       "    </tr>\n",
       "    <tr>\n",
       "      <th>4</th>\n",
       "      <td>2003</td>\n",
       "      <td>Male</td>\n",
       "      <td>All Ages</td>\n",
       "      <td>All Races-All Origins</td>\n",
       "      <td>United States</td>\n",
       "      <td>16399</td>\n",
       "      <td>142428897</td>\n",
       "    </tr>\n",
       "  </tbody>\n",
       "</table>\n",
       "</div>"
      ],
      "text/plain": [
       "   Year   Sex       Age Race and Hispanic Origin          State  Deaths  \\\n",
       "0  1999  Male  All Ages    All Races-All Origins  United States   11258   \n",
       "1  2000  Male  All Ages    All Races-All Origins  United States   11563   \n",
       "2  2001  Male  All Ages    All Races-All Origins  United States   12658   \n",
       "3  2002  Male  All Ages    All Races-All Origins  United States   15028   \n",
       "4  2003  Male  All Ages    All Races-All Origins  United States   16399   \n",
       "\n",
       "   Population  \n",
       "0   136802891  \n",
       "1   138053563  \n",
       "2   139891492  \n",
       "3   141230559  \n",
       "4   142428897  "
      ]
     },
     "execution_count": 48,
     "metadata": {},
     "output_type": "execute_result"
    }
   ],
   "source": [
    "gr_sex = drug_poison_df.groupby(['Year','Sex','Age','Race and Hispanic Origin'])\n",
    "# initialize each respective dataframe\n",
    "df_male = gr_sex.get_group((1999, 'Male', 'All Ages', 'All Races-All Origins'))\n",
    "df_female = gr_sex.get_group((1999, 'Female', 'All Ages', 'All Races-All Origins'))\n",
    "\n",
    "# For each year\n",
    "for year in years:\n",
    "    if year != 1999: \n",
    "        # this segregates each year's data based on sex and saves to each respective dataframe\n",
    "        temp_male = gr_sex.get_group((year, 'Male', 'All Ages', 'All Races-All Origins'))\n",
    "        df_male = df_male.append(temp_male, ignore_index=True)\n",
    "        \n",
    "        temp_female = gr_sex.get_group((year, 'Female', 'All Ages', 'All Races-All Origins'))\n",
    "        df_female = df_female.append(temp_female, ignore_index=True)\n",
    "        \n",
    "df_male.head()"
   ]
  },
  {
   "cell_type": "code",
   "execution_count": 49,
   "metadata": {},
   "outputs": [
    {
     "data": {
      "text/html": [
       "<div>\n",
       "<table border=\"1\" class=\"dataframe\">\n",
       "  <thead>\n",
       "    <tr style=\"text-align: right;\">\n",
       "      <th></th>\n",
       "      <th>Year</th>\n",
       "      <th>Sex</th>\n",
       "      <th>Age</th>\n",
       "      <th>Race and Hispanic Origin</th>\n",
       "      <th>State</th>\n",
       "      <th>Deaths</th>\n",
       "      <th>Population</th>\n",
       "    </tr>\n",
       "  </thead>\n",
       "  <tbody>\n",
       "    <tr>\n",
       "      <th>0</th>\n",
       "      <td>1999</td>\n",
       "      <td>Female</td>\n",
       "      <td>All Ages</td>\n",
       "      <td>All Races-All Origins</td>\n",
       "      <td>United States</td>\n",
       "      <td>5591</td>\n",
       "      <td>142237347</td>\n",
       "    </tr>\n",
       "    <tr>\n",
       "      <th>1</th>\n",
       "      <td>2000</td>\n",
       "      <td>Female</td>\n",
       "      <td>All Ages</td>\n",
       "      <td>All Races-All Origins</td>\n",
       "      <td>United States</td>\n",
       "      <td>5852</td>\n",
       "      <td>143368343</td>\n",
       "    </tr>\n",
       "    <tr>\n",
       "      <th>2</th>\n",
       "      <td>2001</td>\n",
       "      <td>Female</td>\n",
       "      <td>All Ages</td>\n",
       "      <td>All Races-All Origins</td>\n",
       "      <td>United States</td>\n",
       "      <td>6736</td>\n",
       "      <td>145077463</td>\n",
       "    </tr>\n",
       "    <tr>\n",
       "      <th>3</th>\n",
       "      <td>2002</td>\n",
       "      <td>Female</td>\n",
       "      <td>All Ages</td>\n",
       "      <td>All Races-All Origins</td>\n",
       "      <td>United States</td>\n",
       "      <td>8490</td>\n",
       "      <td>146394634</td>\n",
       "    </tr>\n",
       "    <tr>\n",
       "      <th>4</th>\n",
       "      <td>2003</td>\n",
       "      <td>Female</td>\n",
       "      <td>All Ages</td>\n",
       "      <td>All Races-All Origins</td>\n",
       "      <td>United States</td>\n",
       "      <td>9386</td>\n",
       "      <td>147679036</td>\n",
       "    </tr>\n",
       "  </tbody>\n",
       "</table>\n",
       "</div>"
      ],
      "text/plain": [
       "   Year     Sex       Age Race and Hispanic Origin          State  Deaths  \\\n",
       "0  1999  Female  All Ages    All Races-All Origins  United States    5591   \n",
       "1  2000  Female  All Ages    All Races-All Origins  United States    5852   \n",
       "2  2001  Female  All Ages    All Races-All Origins  United States    6736   \n",
       "3  2002  Female  All Ages    All Races-All Origins  United States    8490   \n",
       "4  2003  Female  All Ages    All Races-All Origins  United States    9386   \n",
       "\n",
       "   Population  \n",
       "0   142237347  \n",
       "1   143368343  \n",
       "2   145077463  \n",
       "3   146394634  \n",
       "4   147679036  "
      ]
     },
     "execution_count": 49,
     "metadata": {},
     "output_type": "execute_result"
    }
   ],
   "source": [
    "df_female.head()"
   ]
  },
  {
   "cell_type": "markdown",
   "metadata": {},
   "source": [
    "<p>The next dataframe will be based on unique age groups, for both sexes and all race. Similar to the above dataframes, in order to avoid duplication, the 'All Ages' rows will not be included.</p>"
   ]
  },
  {
   "cell_type": "code",
   "execution_count": 50,
   "metadata": {},
   "outputs": [
    {
     "data": {
      "text/html": [
       "<div>\n",
       "<table border=\"1\" class=\"dataframe\">\n",
       "  <thead>\n",
       "    <tr style=\"text-align: right;\">\n",
       "      <th></th>\n",
       "      <th>Year</th>\n",
       "      <th>Sex</th>\n",
       "      <th>Age</th>\n",
       "      <th>Race and Hispanic Origin</th>\n",
       "      <th>State</th>\n",
       "      <th>Deaths</th>\n",
       "      <th>Population</th>\n",
       "    </tr>\n",
       "  </thead>\n",
       "  <tbody>\n",
       "    <tr>\n",
       "      <th>0</th>\n",
       "      <td>1999</td>\n",
       "      <td>Both Sexes</td>\n",
       "      <td>Less than 15 years</td>\n",
       "      <td>All Races-All Origins</td>\n",
       "      <td>United States</td>\n",
       "      <td>74</td>\n",
       "      <td>59955378</td>\n",
       "    </tr>\n",
       "    <tr>\n",
       "      <th>1</th>\n",
       "      <td>2000</td>\n",
       "      <td>Both Sexes</td>\n",
       "      <td>Less than 15 years</td>\n",
       "      <td>All Races-All Origins</td>\n",
       "      <td>United States</td>\n",
       "      <td>74</td>\n",
       "      <td>60253375</td>\n",
       "    </tr>\n",
       "    <tr>\n",
       "      <th>2</th>\n",
       "      <td>2001</td>\n",
       "      <td>Both Sexes</td>\n",
       "      <td>Less than 15 years</td>\n",
       "      <td>All Races-All Origins</td>\n",
       "      <td>United States</td>\n",
       "      <td>91</td>\n",
       "      <td>60450257</td>\n",
       "    </tr>\n",
       "    <tr>\n",
       "      <th>3</th>\n",
       "      <td>2002</td>\n",
       "      <td>Both Sexes</td>\n",
       "      <td>Less than 15 years</td>\n",
       "      <td>All Races-All Origins</td>\n",
       "      <td>United States</td>\n",
       "      <td>97</td>\n",
       "      <td>60563030</td>\n",
       "    </tr>\n",
       "    <tr>\n",
       "      <th>4</th>\n",
       "      <td>2003</td>\n",
       "      <td>Both Sexes</td>\n",
       "      <td>Less than 15 years</td>\n",
       "      <td>All Races-All Origins</td>\n",
       "      <td>United States</td>\n",
       "      <td>100</td>\n",
       "      <td>60628650</td>\n",
       "    </tr>\n",
       "  </tbody>\n",
       "</table>\n",
       "</div>"
      ],
      "text/plain": [
       "   Year         Sex                 Age Race and Hispanic Origin  \\\n",
       "0  1999  Both Sexes  Less than 15 years    All Races-All Origins   \n",
       "1  2000  Both Sexes  Less than 15 years    All Races-All Origins   \n",
       "2  2001  Both Sexes  Less than 15 years    All Races-All Origins   \n",
       "3  2002  Both Sexes  Less than 15 years    All Races-All Origins   \n",
       "4  2003  Both Sexes  Less than 15 years    All Races-All Origins   \n",
       "\n",
       "           State  Deaths  Population  \n",
       "0  United States      74    59955378  \n",
       "1  United States      74    60253375  \n",
       "2  United States      91    60450257  \n",
       "3  United States      97    60563030  \n",
       "4  United States     100    60628650  "
      ]
     },
     "execution_count": 50,
     "metadata": {},
     "output_type": "execute_result"
    }
   ],
   "source": [
    "gr_age = drug_poison_df.groupby(['Year','Sex','Age','Race and Hispanic Origin'])\n",
    "df_age = gr_age.get_group((1999,'Both Sexes','Less than 15 years','All Races-All Origins'))\n",
    "\n",
    "ignore_first = 0\n",
    "for ag in age:  # For each age group not including 'All Ages'\n",
    "    if ag != 'All Ages':\n",
    "        for year in years:\n",
    "            if ignore_first == 0:\n",
    "                # Since we have input valyes for 1999 and 'Less than 15 years', we have to ignore the duplication\n",
    "                ignore_first += 1\n",
    "            else:\n",
    "                temp_df = gr_age.get_group((year, 'Both Sexes', ag,'All Races-All Origins'))\n",
    "                df_age = df_age.append(temp_df, ignore_index=True)\n",
    "                \n",
    "df_age.head()"
   ]
  },
  {
   "cell_type": "markdown",
   "metadata": {},
   "source": [
    "Last but not the least, we group by race using the same process as above."
   ]
  },
  {
   "cell_type": "code",
   "execution_count": 51,
   "metadata": {},
   "outputs": [
    {
     "data": {
      "text/html": [
       "<div>\n",
       "<table border=\"1\" class=\"dataframe\">\n",
       "  <thead>\n",
       "    <tr style=\"text-align: right;\">\n",
       "      <th></th>\n",
       "      <th>Year</th>\n",
       "      <th>Sex</th>\n",
       "      <th>Age</th>\n",
       "      <th>Race and Hispanic Origin</th>\n",
       "      <th>State</th>\n",
       "      <th>Deaths</th>\n",
       "      <th>Population</th>\n",
       "    </tr>\n",
       "  </thead>\n",
       "  <tbody>\n",
       "    <tr>\n",
       "      <th>0</th>\n",
       "      <td>1999</td>\n",
       "      <td>Both Sexes</td>\n",
       "      <td>All Ages</td>\n",
       "      <td>Hispanic</td>\n",
       "      <td>United States</td>\n",
       "      <td>1669</td>\n",
       "      <td>33937845</td>\n",
       "    </tr>\n",
       "    <tr>\n",
       "      <th>1</th>\n",
       "      <td>2000</td>\n",
       "      <td>Both Sexes</td>\n",
       "      <td>All Ages</td>\n",
       "      <td>Hispanic</td>\n",
       "      <td>United States</td>\n",
       "      <td>1443</td>\n",
       "      <td>35305818</td>\n",
       "    </tr>\n",
       "    <tr>\n",
       "      <th>2</th>\n",
       "      <td>2001</td>\n",
       "      <td>Both Sexes</td>\n",
       "      <td>All Ages</td>\n",
       "      <td>Hispanic</td>\n",
       "      <td>United States</td>\n",
       "      <td>1483</td>\n",
       "      <td>37144096</td>\n",
       "    </tr>\n",
       "    <tr>\n",
       "      <th>3</th>\n",
       "      <td>2002</td>\n",
       "      <td>Both Sexes</td>\n",
       "      <td>All Ages</td>\n",
       "      <td>Hispanic</td>\n",
       "      <td>United States</td>\n",
       "      <td>1831</td>\n",
       "      <td>38617620</td>\n",
       "    </tr>\n",
       "    <tr>\n",
       "      <th>4</th>\n",
       "      <td>2003</td>\n",
       "      <td>Both Sexes</td>\n",
       "      <td>All Ages</td>\n",
       "      <td>Hispanic</td>\n",
       "      <td>United States</td>\n",
       "      <td>2009</td>\n",
       "      <td>40049429</td>\n",
       "    </tr>\n",
       "  </tbody>\n",
       "</table>\n",
       "</div>"
      ],
      "text/plain": [
       "   Year         Sex       Age Race and Hispanic Origin          State  Deaths  \\\n",
       "0  1999  Both Sexes  All Ages                 Hispanic  United States    1669   \n",
       "1  2000  Both Sexes  All Ages                 Hispanic  United States    1443   \n",
       "2  2001  Both Sexes  All Ages                 Hispanic  United States    1483   \n",
       "3  2002  Both Sexes  All Ages                 Hispanic  United States    1831   \n",
       "4  2003  Both Sexes  All Ages                 Hispanic  United States    2009   \n",
       "\n",
       "   Population  \n",
       "0    33937845  \n",
       "1    35305818  \n",
       "2    37144096  \n",
       "3    38617620  \n",
       "4    40049429  "
      ]
     },
     "execution_count": 51,
     "metadata": {},
     "output_type": "execute_result"
    }
   ],
   "source": [
    "gr_race = drug_poison_df.groupby(['Year','Sex','Age','Race and Hispanic Origin'])\n",
    "df_race = gr_age.get_group((1999,'Both Sexes','All Ages','Hispanic'))\n",
    "\n",
    "ignore_first = 0\n",
    "for ra in race:  # For each race group not including 'All races'\n",
    "    if ra != 'All Races-All Origins':\n",
    "        for year in years:\n",
    "            if ignore_first == 0:\n",
    "                # Since we have input vales for 1999 and 'Hispanic', we have to ignore the duplication\n",
    "                ignore_first += 1\n",
    "            else:\n",
    "                temp_df = gr_age.get_group((year, 'Both Sexes', 'All Ages', ra))\n",
    "                df_race = df_race.append(temp_df, ignore_index=True)\n",
    "                \n",
    "df_race.head()"
   ]
  },
  {
   "cell_type": "markdown",
   "metadata": {},
   "source": [
    "<h2> 2. Data Analysis and Visualization</h2>"
   ]
  },
  {
   "cell_type": "markdown",
   "metadata": {},
   "source": [
    "<p>Our next step after cleaning and formatting data is to do analyze the trend and visualize it. Almost all of our plots will be done using matplotlib library save for the plotly geographic map. </p>"
   ]
  },
  {
   "cell_type": "markdown",
   "metadata": {},
   "source": [
    "<h3><a name=\"year_graph\"></a>2.1 Analyzing and Visualizing the Rate of Death Per Year</h3>"
   ]
  },
  {
   "cell_type": "markdown",
   "metadata": {},
   "source": [
    "<p>To analyze the rate (displayed in percent format), we have to compute the (number of deaths / population of that year) * 100, and then we plot in order to visualize if there are any trends. We will also include population unadjusted total number of deaths vs. year plot as comparison. The two plots will be combine to a single plot by using the twinx() function from matplotlib. polyfit() and polyval() will be used to display the average growth in the rate of deaths per year.</p>"
   ]
  },
  {
   "cell_type": "code",
   "execution_count": 52,
   "metadata": {},
   "outputs": [
    {
     "data": {
      "text/html": [
       "<div>\n",
       "<table border=\"1\" class=\"dataframe\">\n",
       "  <thead>\n",
       "    <tr style=\"text-align: right;\">\n",
       "      <th></th>\n",
       "      <th>Year</th>\n",
       "      <th>Sex</th>\n",
       "      <th>Age</th>\n",
       "      <th>Race and Hispanic Origin</th>\n",
       "      <th>State</th>\n",
       "      <th>Deaths</th>\n",
       "      <th>Population</th>\n",
       "      <th>rate_percent</th>\n",
       "    </tr>\n",
       "  </thead>\n",
       "  <tbody>\n",
       "    <tr>\n",
       "      <th>0</th>\n",
       "      <td>1999</td>\n",
       "      <td>Both Sexes</td>\n",
       "      <td>All Ages</td>\n",
       "      <td>All Races-All Origins</td>\n",
       "      <td>United States</td>\n",
       "      <td>16849</td>\n",
       "      <td>279040238</td>\n",
       "      <td>0.006038</td>\n",
       "    </tr>\n",
       "    <tr>\n",
       "      <th>1</th>\n",
       "      <td>2000</td>\n",
       "      <td>Both Sexes</td>\n",
       "      <td>All Ages</td>\n",
       "      <td>All Races-All Origins</td>\n",
       "      <td>United States</td>\n",
       "      <td>17415</td>\n",
       "      <td>281421906</td>\n",
       "      <td>0.006188</td>\n",
       "    </tr>\n",
       "    <tr>\n",
       "      <th>2</th>\n",
       "      <td>2001</td>\n",
       "      <td>Both Sexes</td>\n",
       "      <td>All Ages</td>\n",
       "      <td>All Races-All Origins</td>\n",
       "      <td>United States</td>\n",
       "      <td>19394</td>\n",
       "      <td>284968955</td>\n",
       "      <td>0.006806</td>\n",
       "    </tr>\n",
       "    <tr>\n",
       "      <th>3</th>\n",
       "      <td>2002</td>\n",
       "      <td>Both Sexes</td>\n",
       "      <td>All Ages</td>\n",
       "      <td>All Races-All Origins</td>\n",
       "      <td>United States</td>\n",
       "      <td>23518</td>\n",
       "      <td>287625193</td>\n",
       "      <td>0.008177</td>\n",
       "    </tr>\n",
       "    <tr>\n",
       "      <th>4</th>\n",
       "      <td>2003</td>\n",
       "      <td>Both Sexes</td>\n",
       "      <td>All Ages</td>\n",
       "      <td>All Races-All Origins</td>\n",
       "      <td>United States</td>\n",
       "      <td>25785</td>\n",
       "      <td>290107933</td>\n",
       "      <td>0.008888</td>\n",
       "    </tr>\n",
       "  </tbody>\n",
       "</table>\n",
       "</div>"
      ],
      "text/plain": [
       "   Year         Sex       Age Race and Hispanic Origin          State  Deaths  \\\n",
       "0  1999  Both Sexes  All Ages    All Races-All Origins  United States   16849   \n",
       "1  2000  Both Sexes  All Ages    All Races-All Origins  United States   17415   \n",
       "2  2001  Both Sexes  All Ages    All Races-All Origins  United States   19394   \n",
       "3  2002  Both Sexes  All Ages    All Races-All Origins  United States   23518   \n",
       "4  2003  Both Sexes  All Ages    All Races-All Origins  United States   25785   \n",
       "\n",
       "   Population  rate_percent  \n",
       "0   279040238      0.006038  \n",
       "1   281421906      0.006188  \n",
       "2   284968955      0.006806  \n",
       "3   287625193      0.008177  \n",
       "4   290107933      0.008888  "
      ]
     },
     "execution_count": 52,
     "metadata": {},
     "output_type": "execute_result"
    }
   ],
   "source": [
    "# This line creates a new column to add the rate for each year\n",
    "df_year['rate_percent'] = (df_year.Deaths / df_year.Population) * 100\n",
    "df_year.head()"
   ]
  },
  {
   "cell_type": "code",
   "execution_count": 53,
   "metadata": {
    "scrolled": true
   },
   "outputs": [
    {
     "data": {
      "image/png": "[encoded data removed]",
      "text/plain": [
       "<matplotlib.figure.Figure at 0x7f879a60e438>"
      ]
     },
     "metadata": {},
     "output_type": "display_data"
    }
   ],
   "source": [
    "# create subplots and divide using twinx() to display two y-axis of different range.\n",
    "fig, total_ax1 = plt.subplots()\n",
    "rate_ax2 = total_ax1.twinx()\n",
    "\n",
    "# Plots total vs. year and rate vs. year.\n",
    "total_ax1.scatter(df_year.Year, df_year.Deaths, color='lightblue', label='Total')\n",
    "rate_ax2.scatter(df_year.Year, df_year.rate_percent, color='pink', label='Rate')\n",
    "\n",
    "# use polyfit to add a best fit line that will estimate the average increase in the rate of deaths per year \n",
    "rate_ax2.plot(df_year.Year, np.polyval(np.polyfit(df_year.Year, df_year.rate_percent, 1), df_year.Year), \n",
    "              label='avg rate', color='pink', linestyle='--')\n",
    "\n",
    "# Label the graph\n",
    "plt.title('Drug Poisoning per Year (1999-2015)')\n",
    "\n",
    "total_ax1.set_xlabel('Year')\n",
    "total_ax1.set_ylabel('Number of Deaths\\n')\n",
    "total_ax1.legend(loc='upper left')\n",
    "\n",
    "rate_ax2.set_ylabel('\\nRate of Death (%)')\n",
    "rate_ax2.legend(loc='lower right')\n",
    "\n",
    "plt.show() # Show the graph"
   ]
  },
  {
   "cell_type": "markdown",
   "metadata": {},
   "source": [
    "<p>As shown by the graph, the number of drug poisoning is increasing per year with the exception of 2006-2008 where the rate of increase was close to 0. If the increase in the raw numbers of death was solely due to population increase, we would have seen a horizontal avg rate line (pink dash plot); however, the average rate is not zero. Therefore, we can conclude that there is a definite increase in the number of deaths from drug poisoning irrespective of population growth. </p>"
   ]
  },
  {
   "cell_type": "markdown",
   "metadata": {},
   "source": [
    "<h3>2.2 Analyzing and Visualizing the Rate of Death Per State for Each Year</h3>\n",
    "<p>Looking at the raw data and the analysis from above, we know that there is a clear increase in the number of deaths by drug poisoning. Our next step will be to see which states are the most affected by this increase.</p>\n",
    "\n",
    "<p>To do this, we will look at increments of four years from 1999-2015, giving us five year groups. For this five years, we will examine population adjusted rate of death. This rate is converted to percent for convenience of displaying large decimal numbers on the heat map, which is constructed by using the plotly library. For working with USA geography in plotly, we need to convert full state names into their respective acronyms.</p>"
   ]
  },
  {
   "cell_type": "code",
   "execution_count": 54,
   "metadata": {},
   "outputs": [
    {
     "data": {
      "text/html": [
       "<div>\n",
       "<table border=\"1\" class=\"dataframe\">\n",
       "  <thead>\n",
       "    <tr style=\"text-align: right;\">\n",
       "      <th></th>\n",
       "      <th>Year</th>\n",
       "      <th>Sex</th>\n",
       "      <th>Age</th>\n",
       "      <th>Race and Hispanic Origin</th>\n",
       "      <th>State</th>\n",
       "      <th>Deaths</th>\n",
       "      <th>Population</th>\n",
       "      <th>state_acronyms</th>\n",
       "      <th>rate_of_deaths</th>\n",
       "      <th>text</th>\n",
       "    </tr>\n",
       "  </thead>\n",
       "  <tbody>\n",
       "    <tr>\n",
       "      <th>0</th>\n",
       "      <td>1999</td>\n",
       "      <td>Both Sexes</td>\n",
       "      <td>All Ages</td>\n",
       "      <td>All Races-All Origins</td>\n",
       "      <td>Alabama</td>\n",
       "      <td>169</td>\n",
       "      <td>4430143</td>\n",
       "      <td>AL</td>\n",
       "      <td>0.003815</td>\n",
       "      <td>State: Alabama&lt;br&gt;Number of Deaths: 169</td>\n",
       "    </tr>\n",
       "    <tr>\n",
       "      <th>1</th>\n",
       "      <td>2000</td>\n",
       "      <td>Both Sexes</td>\n",
       "      <td>All Ages</td>\n",
       "      <td>All Races-All Origins</td>\n",
       "      <td>Alabama</td>\n",
       "      <td>197</td>\n",
       "      <td>4447100</td>\n",
       "      <td>AL</td>\n",
       "      <td>0.004430</td>\n",
       "      <td>State: Alabama&lt;br&gt;Number of Deaths: 197</td>\n",
       "    </tr>\n",
       "    <tr>\n",
       "      <th>2</th>\n",
       "      <td>2001</td>\n",
       "      <td>Both Sexes</td>\n",
       "      <td>All Ages</td>\n",
       "      <td>All Races-All Origins</td>\n",
       "      <td>Alabama</td>\n",
       "      <td>216</td>\n",
       "      <td>4467634</td>\n",
       "      <td>AL</td>\n",
       "      <td>0.004835</td>\n",
       "      <td>State: Alabama&lt;br&gt;Number of Deaths: 216</td>\n",
       "    </tr>\n",
       "    <tr>\n",
       "      <th>3</th>\n",
       "      <td>2002</td>\n",
       "      <td>Both Sexes</td>\n",
       "      <td>All Ages</td>\n",
       "      <td>All Races-All Origins</td>\n",
       "      <td>Alabama</td>\n",
       "      <td>211</td>\n",
       "      <td>4480089</td>\n",
       "      <td>AL</td>\n",
       "      <td>0.004710</td>\n",
       "      <td>State: Alabama&lt;br&gt;Number of Deaths: 211</td>\n",
       "    </tr>\n",
       "    <tr>\n",
       "      <th>4</th>\n",
       "      <td>2003</td>\n",
       "      <td>Both Sexes</td>\n",
       "      <td>All Ages</td>\n",
       "      <td>All Races-All Origins</td>\n",
       "      <td>Alabama</td>\n",
       "      <td>197</td>\n",
       "      <td>4503491</td>\n",
       "      <td>AL</td>\n",
       "      <td>0.004374</td>\n",
       "      <td>State: Alabama&lt;br&gt;Number of Deaths: 197</td>\n",
       "    </tr>\n",
       "  </tbody>\n",
       "</table>\n",
       "</div>"
      ],
      "text/plain": [
       "   Year         Sex       Age Race and Hispanic Origin    State  Deaths  \\\n",
       "0  1999  Both Sexes  All Ages    All Races-All Origins  Alabama     169   \n",
       "1  2000  Both Sexes  All Ages    All Races-All Origins  Alabama     197   \n",
       "2  2001  Both Sexes  All Ages    All Races-All Origins  Alabama     216   \n",
       "3  2002  Both Sexes  All Ages    All Races-All Origins  Alabama     211   \n",
       "4  2003  Both Sexes  All Ages    All Races-All Origins  Alabama     197   \n",
       "\n",
       "   Population state_acronyms  rate_of_deaths  \\\n",
       "0     4430143             AL        0.003815   \n",
       "1     4447100             AL        0.004430   \n",
       "2     4467634             AL        0.004835   \n",
       "3     4480089             AL        0.004710   \n",
       "4     4503491             AL        0.004374   \n",
       "\n",
       "                                      text  \n",
       "0  State: Alabama<br>Number of Deaths: 169  \n",
       "1  State: Alabama<br>Number of Deaths: 197  \n",
       "2  State: Alabama<br>Number of Deaths: 216  \n",
       "3  State: Alabama<br>Number of Deaths: 211  \n",
       "4  State: Alabama<br>Number of Deaths: 197  "
      ]
     },
     "execution_count": 54,
     "metadata": {},
     "output_type": "execute_result"
    }
   ],
   "source": [
    "acr = [\"AL\", \"AK\", \"AZ\", \"AR\", \"CA\", \"CO\", \"CT\", \"DE\",\"DC\", \"FL\", \n",
    "          \"GA\", \"HI\", \"ID\", \"IL\", \"IN\", \"IA\", \"KS\", \"KY\", \"LA\", \"ME\", \n",
    "          \"MD\", \"MA\", \"MI\", \"MN\", \"MS\", \"MO\", \"MT\", \"NE\", \"NV\", \"NH\", \n",
    "          \"NJ\", \"NM\", \"NY\", \"NC\", \"ND\", \"OH\", \"OK\", \"OR\", \"PA\", \"RI\", \n",
    "          \"SC\", \"SD\", \"TN\", \"TX\", \"UT\", \"VT\", \"VA\", \"WA\", \"WV\", \"WI\", \"WY\"]\n",
    "\n",
    "sta_acr = [(states[i],acr[i]) for i in range(len(states))]\n",
    "state_acr = dict(sta_acr)\n",
    "acronyms = [state_acr[state] for state in df_states.State.tolist()]\n",
    "\n",
    "# Creates new columns in the states data frame\n",
    "df_states['state_acronyms'] = acronyms\n",
    "df_states['rate_of_deaths'] = (df_states.Deaths / df_states.Population) * 100\n",
    "\n",
    "# This will create labels in the map later.\n",
    "df_states['text'] = [('State: '+ df_states.at[i,'State'] + '<br>' + 'Number of Deaths: '+\n",
    "                      str(df_states.at[i,'Deaths'])) for i in range(len(df_states))]\n",
    "df_states.head()"
   ]
  },
  {
   "cell_type": "code",
   "execution_count": 55,
   "metadata": {
    "scrolled": false
   },
   "outputs": [
    {
     "data": {
      "application/vnd.plotly.v1+json": {
       "data": [
        {
         "autocolorscale": true,
         "colorbar": {
          "title": "Percent Population <br>Adjusted Rate of <br>Death"
         },
         "locationmode": "USA-states",
         "locations": [
          "AL",
          "AK",
          "AZ",
          "AR",
          "CA",
          "CO",
          "CT",
          "DE",
          "DC",
          "FL",
          "GA",
          "HI",
          "ID",
          "IL",
          "IN",
          "IA",
          "KS",
          "KY",
          "LA",
          "ME",
          "MD",
          "MA",
          "MI",
          "MN",
          "MS",
          "MO",
          "MT",
          "NE",
          "NV",
          "NH",
          "NJ",
          "NM",
          "NY",
          "NC",
          "ND",
          "OH",
          "OK",
          "OR",
          "PA",
          "RI",
          "SC",
          "SD",
          "TN",
          "TX",
          "UT",
          "VT",
          "VA",
          "WA",
          "WV",
          "WI",
          "WY"
         ],
         "marker": {
          "line": {
           "color": "rgb(255,255,255)",
           "width": 2
          }
         },
         "text": [
          "State: Alabama<br>Number of Deaths: 169",
          "State: Alaska<br>Number of Deaths: 46",
          "State: Arizona<br>Number of Deaths: 511",
          "State: Arkansas<br>Number of Deaths: 113",
          "State: California<br>Number of Deaths: 2662",
          "State: Colorado<br>Number of Deaths: 349",
          "State: Connecticut<br>Number of Deaths: 310",
          "State: Delaware<br>Number of Deaths: 50",
          "State: District of Columbia<br>Number of Deaths: 48",
          "State: Florida<br>Number of Deaths: 997",
          "State: Georgia<br>Number of Deaths: 283",
          "State: Hawaii<br>Number of Deaths: 80",
          "State: Idaho<br>Number of Deaths: 64",
          "State: Illinois<br>Number of Deaths: 825",
          "State: Indiana<br>Number of Deaths: 191",
          "State: Iowa<br>Number of Deaths: 53",
          "State: Kansas<br>Number of Deaths: 89",
          "State: Kentucky<br>Number of Deaths: 197",
          "State: Louisiana<br>Number of Deaths: 188",
          "State: Maine<br>Number of Deaths: 67",
          "State: Maryland<br>Number of Deaths: 629",
          "State: Massachusetts<br>Number of Deaths: 488",
          "State: Michigan<br>Number of Deaths: 460",
          "State: Minnesota<br>Number of Deaths: 136",
          "State: Mississippi<br>Number of Deaths: 87",
          "State: Missouri<br>Number of Deaths: 276",
          "State: Montana<br>Number of Deaths: 41",
          "State: Nebraska<br>Number of Deaths: 39",
          "State: Nevada<br>Number of Deaths: 227",
          "State: New Hampshire<br>Number of Deaths: 54",
          "State: New Jersey<br>Number of Deaths: 557",
          "State: New Mexico<br>Number of Deaths: 266",
          "State: New York<br>Number of Deaths: 959",
          "State: North Carolina<br>Number of Deaths: 366",
          "State: North Dakota<br>Number of Deaths: 12",
          "State: Ohio<br>Number of Deaths: 467",
          "State: Oklahoma<br>Number of Deaths: 178",
          "State: Oregon<br>Number of Deaths: 210",
          "State: Pennsylvania<br>Number of Deaths: 990",
          "State: Rhode Island<br>Number of Deaths: 58",
          "State: South Carolina<br>Number of Deaths: 147",
          "State: South Dakota<br>Number of Deaths: 17",
          "State: Tennessee<br>Number of Deaths: 344",
          "State: Texas<br>Number of Deaths: 1087",
          "State: Utah<br>Number of Deaths: 205",
          "State: Vermont<br>Number of Deaths: 29",
          "State: Virginia<br>Number of Deaths: 366",
          "State: Washington<br>Number of Deaths: 555",
          "State: West Virginia<br>Number of Deaths: 75",
          "State: Wisconsin<br>Number of Deaths: 212",
          "State: Wyoming<br>Number of Deaths: 20"
         ],
         "type": "choropleth",
         "z": [
          0.003814775279262994,
          0.0073625798479787325,
          0.010171534671596776,
          0.00426116009140754,
          0.007946457474034309,
          0.008258365203366385,
          0.00915426141204187,
          0.0064516961509180765,
          0.008417803654729753,
          0.0063263745539890075,
          0.003517290527949037,
          0.006609931421961497,
          0.005016951809826171,
          0.0066752849315030805,
          0.00315965069813392,
          0.0018165385207275613,
          0.0033229537698723833,
          0.004902872112438537,
          0.0042144774473896465,
          0.005288883556150576,
          0.01197066672807422,
          0.007724764121636542,
          0.0046478181474463726,
          0.0027906131161689147,
          0.0030759309464109185,
          0.004962288406044643,
          0.004568189136400557,
          0.0022877053435517505,
          0.01173297000753081,
          0.004418931027851541,
          0.006663003808917491,
          0.014711722145345179,
          0.005078715859140254,
          0.004604143074626618,
          0.0018626049461474346,
          0.004119816254430677,
          0.0051787121183027324,
          0.006187497071987992,
          0.008072535399902395,
          0.0055747682145939744,
          0.003698407219290892,
          0.0022654071003188896,
          0.006100688313705906,
          0.005287422743797858,
          0.009303452760924409,
          0.0047958695986518645,
          0.005228439970652166,
          0.009499252468735906,
          0.0041395274646608545,
          0.003975497434116444,
          0.004066859164667128
         ]
        }
       ],
       "layout": {
        "geo": {
         "scope": "usa"
        },
        "title": "Percent Rate of Death per State for year: 1999"
       }
      },
      "text/html": [
       "<div id=\"27a35fba-0495-4deb-afdc-93fa78ecbdb3\" style=\"height: 525px; width: 100%;\" class=\"plotly-graph-div\"></div><script type=\"text/javascript\">require([\"plotly\"], function(Plotly) { window.PLOTLYENV=window.PLOTLYENV || {};window.PLOTLYENV.BASE_URL=\"https://plot.ly\";Plotly.newPlot(\"27a35fba-0495-4deb-afdc-93fa78ecbdb3\", [{\"type\": \"choropleth\", \"autocolorscale\": true, \"locations\": [\"AL\", \"AK\", \"AZ\", \"AR\", \"CA\", \"CO\", \"CT\", \"DE\", \"DC\", \"FL\", \"GA\", \"HI\", \"ID\", \"IL\", \"IN\", \"IA\", \"KS\", \"KY\", \"LA\", \"ME\", \"MD\", \"MA\", \"MI\", \"MN\", \"MS\", \"MO\", \"MT\", \"NE\", \"NV\", \"NH\", \"NJ\", \"NM\", \"NY\", \"NC\", \"ND\", \"OH\", \"OK\", \"OR\", \"PA\", \"RI\", \"SC\", \"SD\", \"TN\", \"TX\", \"UT\", \"VT\", \"VA\", \"WA\", \"WV\", \"WI\", \"WY\"], \"z\": [0.003814775279262994, 0.0073625798479787325, 0.010171534671596776, 0.00426116009140754, 0.007946457474034309, 0.008258365203366385, 0.00915426141204187, 0.0064516961509180765, 0.008417803654729753, 0.0063263745539890075, 0.003517290527949037, 0.006609931421961497, 0.005016951809826171, 0.0066752849315030805, 0.00315965069813392, 0.0018165385207275613, 0.0033229537698723833, 0.004902872112438537, 0.0042144774473896465, 0.005288883556150576, 0.01197066672807422, 0.007724764121636542, 0.0046478181474463726, 0.0027906131161689147, 0.0030759309464109185, 0.004962288406044643, 0.004568189136400557, 0.0022877053435517505, 0.01173297000753081, 0.004418931027851541, 0.006663003808917491, 0.014711722145345179, 0.005078715859140254, 0.004604143074626618, 0.0018626049461474346, 0.004119816254430677, 0.0051787121183027324, 0.006187497071987992, 0.008072535399902395, 0.0055747682145939744, 0.003698407219290892, 0.0022654071003188896, 0.006100688313705906, 0.005287422743797858, 0.009303452760924409, 0.0047958695986518645, 0.005228439970652166, 0.009499252468735906, 0.0041395274646608545, 0.003975497434116444, 0.004066859164667128], \"locationmode\": \"USA-states\", \"text\": [\"State: Alabama<br>Number of Deaths: 169\", \"State: Alaska<br>Number of Deaths: 46\", \"State: Arizona<br>Number of Deaths: 511\", \"State: Arkansas<br>Number of Deaths: 113\", \"State: California<br>Number of Deaths: 2662\", \"State: Colorado<br>Number of Deaths: 349\", \"State: Connecticut<br>Number of Deaths: 310\", \"State: Delaware<br>Number of Deaths: 50\", \"State: District of Columbia<br>Number of Deaths: 48\", \"State: Florida<br>Number of Deaths: 997\", \"State: Georgia<br>Number of Deaths: 283\", \"State: Hawaii<br>Number of Deaths: 80\", \"State: Idaho<br>Number of Deaths: 64\", \"State: Illinois<br>Number of Deaths: 825\", \"State: Indiana<br>Number of Deaths: 191\", \"State: Iowa<br>Number of Deaths: 53\", \"State: Kansas<br>Number of Deaths: 89\", \"State: Kentucky<br>Number of Deaths: 197\", \"State: Louisiana<br>Number of Deaths: 188\", \"State: Maine<br>Number of Deaths: 67\", \"State: Maryland<br>Number of Deaths: 629\", \"State: Massachusetts<br>Number of Deaths: 488\", \"State: Michigan<br>Number of Deaths: 460\", \"State: Minnesota<br>Number of Deaths: 136\", \"State: Mississippi<br>Number of Deaths: 87\", \"State: Missouri<br>Number of Deaths: 276\", \"State: Montana<br>Number of Deaths: 41\", \"State: Nebraska<br>Number of Deaths: 39\", \"State: Nevada<br>Number of Deaths: 227\", \"State: New Hampshire<br>Number of Deaths: 54\", \"State: New Jersey<br>Number of Deaths: 557\", \"State: New Mexico<br>Number of Deaths: 266\", \"State: New York<br>Number of Deaths: 959\", \"State: North Carolina<br>Number of Deaths: 366\", \"State: North Dakota<br>Number of Deaths: 12\", \"State: Ohio<br>Number of Deaths: 467\", \"State: Oklahoma<br>Number of Deaths: 178\", \"State: Oregon<br>Number of Deaths: 210\", \"State: Pennsylvania<br>Number of Deaths: 990\", \"State: Rhode Island<br>Number of Deaths: 58\", \"State: South Carolina<br>Number of Deaths: 147\", \"State: South Dakota<br>Number of Deaths: 17\", \"State: Tennessee<br>Number of Deaths: 344\", \"State: Texas<br>Number of Deaths: 1087\", \"State: Utah<br>Number of Deaths: 205\", \"State: Vermont<br>Number of Deaths: 29\", \"State: Virginia<br>Number of Deaths: 366\", \"State: Washington<br>Number of Deaths: 555\", \"State: West Virginia<br>Number of Deaths: 75\", \"State: Wisconsin<br>Number of Deaths: 212\", \"State: Wyoming<br>Number of Deaths: 20\"], \"marker\": {\"line\": {\"color\": \"rgb(255,255,255)\", \"width\": 2}}, \"colorbar\": {\"title\": \"Percent Population <br>Adjusted Rate of <br>Death\"}}], {\"title\": \"Percent Rate of Death per State for year: 1999\", \"geo\": {\"scope\": \"usa\"}}, {\"showLink\": true, \"linkText\": \"Export to plot.ly\"})});</script>"
      ],
      "text/vnd.plotly.v1+html": [
       "<div id=\"27a35fba-0495-4deb-afdc-93fa78ecbdb3\" style=\"height: 525px; width: 100%;\" class=\"plotly-graph-div\"></div><script type=\"text/javascript\">require([\"plotly\"], function(Plotly) { window.PLOTLYENV=window.PLOTLYENV || {};window.PLOTLYENV.BASE_URL=\"https://plot.ly\";Plotly.newPlot(\"27a35fba-0495-4deb-afdc-93fa78ecbdb3\", [{\"type\": \"choropleth\", \"autocolorscale\": true, \"locations\": [\"AL\", \"AK\", \"AZ\", \"AR\", \"CA\", \"CO\", \"CT\", \"DE\", \"DC\", \"FL\", \"GA\", \"HI\", \"ID\", \"IL\", \"IN\", \"IA\", \"KS\", \"KY\", \"LA\", \"ME\", \"MD\", \"MA\", \"MI\", \"MN\", \"MS\", \"MO\", \"MT\", \"NE\", \"NV\", \"NH\", \"NJ\", \"NM\", \"NY\", \"NC\", \"ND\", \"OH\", \"OK\", \"OR\", \"PA\", \"RI\", \"SC\", \"SD\", \"TN\", \"TX\", \"UT\", \"VT\", \"VA\", \"WA\", \"WV\", \"WI\", \"WY\"], \"z\": [0.003814775279262994, 0.0073625798479787325, 0.010171534671596776, 0.00426116009140754, 0.007946457474034309, 0.008258365203366385, 0.00915426141204187, 0.0064516961509180765, 0.008417803654729753, 0.0063263745539890075, 0.003517290527949037, 0.006609931421961497, 0.005016951809826171, 0.0066752849315030805, 0.00315965069813392, 0.0018165385207275613, 0.0033229537698723833, 0.004902872112438537, 0.0042144774473896465, 0.005288883556150576, 0.01197066672807422, 0.007724764121636542, 0.0046478181474463726, 0.0027906131161689147, 0.0030759309464109185, 0.004962288406044643, 0.004568189136400557, 0.0022877053435517505, 0.01173297000753081, 0.004418931027851541, 0.006663003808917491, 0.014711722145345179, 0.005078715859140254, 0.004604143074626618, 0.0018626049461474346, 0.004119816254430677, 0.0051787121183027324, 0.006187497071987992, 0.008072535399902395, 0.0055747682145939744, 0.003698407219290892, 0.0022654071003188896, 0.006100688313705906, 0.005287422743797858, 0.009303452760924409, 0.0047958695986518645, 0.005228439970652166, 0.009499252468735906, 0.0041395274646608545, 0.003975497434116444, 0.004066859164667128], \"locationmode\": \"USA-states\", \"text\": [\"State: Alabama<br>Number of Deaths: 169\", \"State: Alaska<br>Number of Deaths: 46\", \"State: Arizona<br>Number of Deaths: 511\", \"State: Arkansas<br>Number of Deaths: 113\", \"State: California<br>Number of Deaths: 2662\", \"State: Colorado<br>Number of Deaths: 349\", \"State: Connecticut<br>Number of Deaths: 310\", \"State: Delaware<br>Number of Deaths: 50\", \"State: District of Columbia<br>Number of Deaths: 48\", \"State: Florida<br>Number of Deaths: 997\", \"State: Georgia<br>Number of Deaths: 283\", \"State: Hawaii<br>Number of Deaths: 80\", \"State: Idaho<br>Number of Deaths: 64\", \"State: Illinois<br>Number of Deaths: 825\", \"State: Indiana<br>Number of Deaths: 191\", \"State: Iowa<br>Number of Deaths: 53\", \"State: Kansas<br>Number of Deaths: 89\", \"State: Kentucky<br>Number of Deaths: 197\", \"State: Louisiana<br>Number of Deaths: 188\", \"State: Maine<br>Number of Deaths: 67\", \"State: Maryland<br>Number of Deaths: 629\", \"State: Massachusetts<br>Number of Deaths: 488\", \"State: Michigan<br>Number of Deaths: 460\", \"State: Minnesota<br>Number of Deaths: 136\", \"State: Mississippi<br>Number of Deaths: 87\", \"State: Missouri<br>Number of Deaths: 276\", \"State: Montana<br>Number of Deaths: 41\", \"State: Nebraska<br>Number of Deaths: 39\", \"State: Nevada<br>Number of Deaths: 227\", \"State: New Hampshire<br>Number of Deaths: 54\", \"State: New Jersey<br>Number of Deaths: 557\", \"State: New Mexico<br>Number of Deaths: 266\", \"State: New York<br>Number of Deaths: 959\", \"State: North Carolina<br>Number of Deaths: 366\", \"State: North Dakota<br>Number of Deaths: 12\", \"State: Ohio<br>Number of Deaths: 467\", \"State: Oklahoma<br>Number of Deaths: 178\", \"State: Oregon<br>Number of Deaths: 210\", \"State: Pennsylvania<br>Number of Deaths: 990\", \"State: Rhode Island<br>Number of Deaths: 58\", \"State: South Carolina<br>Number of Deaths: 147\", \"State: South Dakota<br>Number of Deaths: 17\", \"State: Tennessee<br>Number of Deaths: 344\", \"State: Texas<br>Number of Deaths: 1087\", \"State: Utah<br>Number of Deaths: 205\", \"State: Vermont<br>Number of Deaths: 29\", \"State: Virginia<br>Number of Deaths: 366\", \"State: Washington<br>Number of Deaths: 555\", \"State: West Virginia<br>Number of Deaths: 75\", \"State: Wisconsin<br>Number of Deaths: 212\", \"State: Wyoming<br>Number of Deaths: 20\"], \"marker\": {\"line\": {\"color\": \"rgb(255,255,255)\", \"width\": 2}}, \"colorbar\": {\"title\": \"Percent Population <br>Adjusted Rate of <br>Death\"}}], {\"title\": \"Percent Rate of Death per State for year: 1999\", \"geo\": {\"scope\": \"usa\"}}, {\"showLink\": true, \"linkText\": \"Export to plot.ly\"})});</script>"
      ]
     },
     "metadata": {},
     "output_type": "display_data"
    },
    {
     "data": {
      "application/vnd.plotly.v1+json": {
       "data": [
        {
         "autocolorscale": true,
         "colorbar": {
          "title": "Percent Population <br>Adjusted Rate of <br>Death"
         },
         "locationmode": "USA-states",
         "locations": [
          "AL",
          "AK",
          "AZ",
          "AR",
          "CA",
          "CO",
          "CT",
          "DE",
          "DC",
          "FL",
          "GA",
          "HI",
          "ID",
          "IL",
          "IN",
          "IA",
          "KS",
          "KY",
          "LA",
          "ME",
          "MD",
          "MA",
          "MI",
          "MN",
          "MS",
          "MO",
          "MT",
          "NE",
          "NV",
          "NH",
          "NJ",
          "NM",
          "NY",
          "NC",
          "ND",
          "OH",
          "OK",
          "OR",
          "PA",
          "RI",
          "SC",
          "SD",
          "TN",
          "TX",
          "UT",
          "VT",
          "VA",
          "WA",
          "WV",
          "WI",
          "WY"
         ],
         "marker": {
          "line": {
           "color": "rgb(255,255,255)",
           "width": 2
          }
         },
         "text": [
          "State: Alabama<br>Number of Deaths: 197",
          "State: Alaska<br>Number of Deaths: 83",
          "State: Arizona<br>Number of Deaths: 674",
          "State: Arkansas<br>Number of Deaths: 184",
          "State: California<br>Number of Deaths: 3108",
          "State: Colorado<br>Number of Deaths: 502",
          "State: Connecticut<br>Number of Deaths: 307",
          "State: Delaware<br>Number of Deaths: 77",
          "State: District of Columbia<br>Number of Deaths: 103",
          "State: Florida<br>Number of Deaths: 2054",
          "State: Georgia<br>Number of Deaths: 607",
          "State: Hawaii<br>Number of Deaths: 92",
          "State: Idaho<br>Number of Deaths: 102",
          "State: Illinois<br>Number of Deaths: 847",
          "State: Indiana<br>Number of Deaths: 434",
          "State: Iowa<br>Number of Deaths: 96",
          "State: Kansas<br>Number of Deaths: 188",
          "State: Kentucky<br>Number of Deaths: 560",
          "State: Louisiana<br>Number of Deaths: 536",
          "State: Maine<br>Number of Deaths: 133",
          "State: Maryland<br>Number of Deaths: 779",
          "State: Massachusetts<br>Number of Deaths: 823",
          "State: Michigan<br>Number of Deaths: 761",
          "State: Minnesota<br>Number of Deaths: 246",
          "State: Mississippi<br>Number of Deaths: 207",
          "State: Missouri<br>Number of Deaths: 522",
          "State: Montana<br>Number of Deaths: 93",
          "State: Nebraska<br>Number of Deaths: 55",
          "State: Nevada<br>Number of Deaths: 342",
          "State: New Hampshire<br>Number of Deaths: 127",
          "State: New Jersey<br>Number of Deaths: 721",
          "State: New Mexico<br>Number of Deaths: 358",
          "State: New York<br>Number of Deaths: 964",
          "State: North Carolina<br>Number of Deaths: 762",
          "State: North Dakota<br>Number of Deaths: 22",
          "State: Ohio<br>Number of Deaths: 775",
          "State: Oklahoma<br>Number of Deaths: 400",
          "State: Oregon<br>Number of Deaths: 355",
          "State: Pennsylvania<br>Number of Deaths: 1381",
          "State: Rhode Island<br>Number of Deaths: 146",
          "State: South Carolina<br>Number of Deaths: 287",
          "State: South Dakota<br>Number of Deaths: 24",
          "State: Tennessee<br>Number of Deaths: 662",
          "State: Texas<br>Number of Deaths: 1753",
          "State: Utah<br>Number of Deaths: 353",
          "State: Vermont<br>Number of Deaths: 65",
          "State: Virginia<br>Number of Deaths: 547",
          "State: Washington<br>Number of Deaths: 696",
          "State: West Virginia<br>Number of Deaths: 262",
          "State: Wisconsin<br>Number of Deaths: 383",
          "State: Wyoming<br>Number of Deaths: 30"
         ],
         "type": "choropleth",
         "z": [
          0.004374384227702465,
          0.012800463901149573,
          0.012231496866631678,
          0.0067527495434554115,
          0.008816231192217413,
          0.0110847804639356,
          0.008810860950264269,
          0.009413168411362794,
          0.01811779026283109,
          0.012079450320320088,
          0.007039482450755805,
          0.007353211515129233,
          0.007481406504422831,
          0.006745775686950133,
          0.007003797865875011,
          0.003263087444965141,
          0.006904139692780473,
          0.013601575839715144,
          0.011855673979582582,
          0.010179768590132667,
          0.01417325098171141,
          0.012814194951705432,
          0.007578811674198339,
          0.004867843972540611,
          0.007216788131835031,
          0.009142812304543925,
          0.010112762741537357,
          0.003163386618184412,
          0.01520777286168486,
          0.009923115389423677,
          0.008382354411525005,
          0.01906715793891479,
          0.005027133221481357,
          0.009047193939187423,
          0.003443865770635409,
          0.006777563344418804,
          0.011412619846774165,
          0.010007397016837234,
          0.011159904378771518,
          0.013627767790304123,
          0.006915167757873714,
          0.003142475930598419,
          0.011320473366790861,
          0.007956994645391973,
          0.014956758866116672,
          0.010520216619352667,
          0.007425026574672353,
          0.011402144291187175,
          0.014456807528575644,
          0.006990067716052864,
          0.005958848194369683
         ]
        }
       ],
       "layout": {
        "geo": {
         "scope": "usa"
        },
        "title": "Percent Rate of Death per State for year: 2003"
       }
      },
      "text/html": [
       "<div id=\"1fbc798d-e539-469b-8335-94f7fa2dae83\" style=\"height: 525px; width: 100%;\" class=\"plotly-graph-div\"></div><script type=\"text/javascript\">require([\"plotly\"], function(Plotly) { window.PLOTLYENV=window.PLOTLYENV || {};window.PLOTLYENV.BASE_URL=\"https://plot.ly\";Plotly.newPlot(\"1fbc798d-e539-469b-8335-94f7fa2dae83\", [{\"type\": \"choropleth\", \"autocolorscale\": true, \"locations\": [\"AL\", \"AK\", \"AZ\", \"AR\", \"CA\", \"CO\", \"CT\", \"DE\", \"DC\", \"FL\", \"GA\", \"HI\", \"ID\", \"IL\", \"IN\", \"IA\", \"KS\", \"KY\", \"LA\", \"ME\", \"MD\", \"MA\", \"MI\", \"MN\", \"MS\", \"MO\", \"MT\", \"NE\", \"NV\", \"NH\", \"NJ\", \"NM\", \"NY\", \"NC\", \"ND\", \"OH\", \"OK\", \"OR\", \"PA\", \"RI\", \"SC\", \"SD\", \"TN\", \"TX\", \"UT\", \"VT\", \"VA\", \"WA\", \"WV\", \"WI\", \"WY\"], \"z\": [0.004374384227702465, 0.012800463901149573, 0.012231496866631678, 0.0067527495434554115, 0.008816231192217413, 0.0110847804639356, 0.008810860950264269, 0.009413168411362794, 0.01811779026283109, 0.012079450320320088, 0.007039482450755805, 0.007353211515129233, 0.007481406504422831, 0.006745775686950133, 0.007003797865875011, 0.003263087444965141, 0.006904139692780473, 0.013601575839715144, 0.011855673979582582, 0.010179768590132667, 0.01417325098171141, 0.012814194951705432, 0.007578811674198339, 0.004867843972540611, 0.007216788131835031, 0.009142812304543925, 0.010112762741537357, 0.003163386618184412, 0.01520777286168486, 0.009923115389423677, 0.008382354411525005, 0.01906715793891479, 0.005027133221481357, 0.009047193939187423, 0.003443865770635409, 0.006777563344418804, 0.011412619846774165, 0.010007397016837234, 0.011159904378771518, 0.013627767790304123, 0.006915167757873714, 0.003142475930598419, 0.011320473366790861, 0.007956994645391973, 0.014956758866116672, 0.010520216619352667, 0.007425026574672353, 0.011402144291187175, 0.014456807528575644, 0.006990067716052864, 0.005958848194369683], \"locationmode\": \"USA-states\", \"text\": [\"State: Alabama<br>Number of Deaths: 197\", \"State: Alaska<br>Number of Deaths: 83\", \"State: Arizona<br>Number of Deaths: 674\", \"State: Arkansas<br>Number of Deaths: 184\", \"State: California<br>Number of Deaths: 3108\", \"State: Colorado<br>Number of Deaths: 502\", \"State: Connecticut<br>Number of Deaths: 307\", \"State: Delaware<br>Number of Deaths: 77\", \"State: District of Columbia<br>Number of Deaths: 103\", \"State: Florida<br>Number of Deaths: 2054\", \"State: Georgia<br>Number of Deaths: 607\", \"State: Hawaii<br>Number of Deaths: 92\", \"State: Idaho<br>Number of Deaths: 102\", \"State: Illinois<br>Number of Deaths: 847\", \"State: Indiana<br>Number of Deaths: 434\", \"State: Iowa<br>Number of Deaths: 96\", \"State: Kansas<br>Number of Deaths: 188\", \"State: Kentucky<br>Number of Deaths: 560\", \"State: Louisiana<br>Number of Deaths: 536\", \"State: Maine<br>Number of Deaths: 133\", \"State: Maryland<br>Number of Deaths: 779\", \"State: Massachusetts<br>Number of Deaths: 823\", \"State: Michigan<br>Number of Deaths: 761\", \"State: Minnesota<br>Number of Deaths: 246\", \"State: Mississippi<br>Number of Deaths: 207\", \"State: Missouri<br>Number of Deaths: 522\", \"State: Montana<br>Number of Deaths: 93\", \"State: Nebraska<br>Number of Deaths: 55\", \"State: Nevada<br>Number of Deaths: 342\", \"State: New Hampshire<br>Number of Deaths: 127\", \"State: New Jersey<br>Number of Deaths: 721\", \"State: New Mexico<br>Number of Deaths: 358\", \"State: New York<br>Number of Deaths: 964\", \"State: North Carolina<br>Number of Deaths: 762\", \"State: North Dakota<br>Number of Deaths: 22\", \"State: Ohio<br>Number of Deaths: 775\", \"State: Oklahoma<br>Number of Deaths: 400\", \"State: Oregon<br>Number of Deaths: 355\", \"State: Pennsylvania<br>Number of Deaths: 1381\", \"State: Rhode Island<br>Number of Deaths: 146\", \"State: South Carolina<br>Number of Deaths: 287\", \"State: South Dakota<br>Number of Deaths: 24\", \"State: Tennessee<br>Number of Deaths: 662\", \"State: Texas<br>Number of Deaths: 1753\", \"State: Utah<br>Number of Deaths: 353\", \"State: Vermont<br>Number of Deaths: 65\", \"State: Virginia<br>Number of Deaths: 547\", \"State: Washington<br>Number of Deaths: 696\", \"State: West Virginia<br>Number of Deaths: 262\", \"State: Wisconsin<br>Number of Deaths: 383\", \"State: Wyoming<br>Number of Deaths: 30\"], \"marker\": {\"line\": {\"color\": \"rgb(255,255,255)\", \"width\": 2}}, \"colorbar\": {\"title\": \"Percent Population <br>Adjusted Rate of <br>Death\"}}], {\"title\": \"Percent Rate of Death per State for year: 2003\", \"geo\": {\"scope\": \"usa\"}}, {\"showLink\": true, \"linkText\": \"Export to plot.ly\"})});</script>"
      ],
      "text/vnd.plotly.v1+html": [
       "<div id=\"1fbc798d-e539-469b-8335-94f7fa2dae83\" style=\"height: 525px; width: 100%;\" class=\"plotly-graph-div\"></div><script type=\"text/javascript\">require([\"plotly\"], function(Plotly) { window.PLOTLYENV=window.PLOTLYENV || {};window.PLOTLYENV.BASE_URL=\"https://plot.ly\";Plotly.newPlot(\"1fbc798d-e539-469b-8335-94f7fa2dae83\", [{\"type\": \"choropleth\", \"autocolorscale\": true, \"locations\": [\"AL\", \"AK\", \"AZ\", \"AR\", \"CA\", \"CO\", \"CT\", \"DE\", \"DC\", \"FL\", \"GA\", \"HI\", \"ID\", \"IL\", \"IN\", \"IA\", \"KS\", \"KY\", \"LA\", \"ME\", \"MD\", \"MA\", \"MI\", \"MN\", \"MS\", \"MO\", \"MT\", \"NE\", \"NV\", \"NH\", \"NJ\", \"NM\", \"NY\", \"NC\", \"ND\", \"OH\", \"OK\", \"OR\", \"PA\", \"RI\", \"SC\", \"SD\", \"TN\", \"TX\", \"UT\", \"VT\", \"VA\", \"WA\", \"WV\", \"WI\", \"WY\"], \"z\": [0.004374384227702465, 0.012800463901149573, 0.012231496866631678, 0.0067527495434554115, 0.008816231192217413, 0.0110847804639356, 0.008810860950264269, 0.009413168411362794, 0.01811779026283109, 0.012079450320320088, 0.007039482450755805, 0.007353211515129233, 0.007481406504422831, 0.006745775686950133, 0.007003797865875011, 0.003263087444965141, 0.006904139692780473, 0.013601575839715144, 0.011855673979582582, 0.010179768590132667, 0.01417325098171141, 0.012814194951705432, 0.007578811674198339, 0.004867843972540611, 0.007216788131835031, 0.009142812304543925, 0.010112762741537357, 0.003163386618184412, 0.01520777286168486, 0.009923115389423677, 0.008382354411525005, 0.01906715793891479, 0.005027133221481357, 0.009047193939187423, 0.003443865770635409, 0.006777563344418804, 0.011412619846774165, 0.010007397016837234, 0.011159904378771518, 0.013627767790304123, 0.006915167757873714, 0.003142475930598419, 0.011320473366790861, 0.007956994645391973, 0.014956758866116672, 0.010520216619352667, 0.007425026574672353, 0.011402144291187175, 0.014456807528575644, 0.006990067716052864, 0.005958848194369683], \"locationmode\": \"USA-states\", \"text\": [\"State: Alabama<br>Number of Deaths: 197\", \"State: Alaska<br>Number of Deaths: 83\", \"State: Arizona<br>Number of Deaths: 674\", \"State: Arkansas<br>Number of Deaths: 184\", \"State: California<br>Number of Deaths: 3108\", \"State: Colorado<br>Number of Deaths: 502\", \"State: Connecticut<br>Number of Deaths: 307\", \"State: Delaware<br>Number of Deaths: 77\", \"State: District of Columbia<br>Number of Deaths: 103\", \"State: Florida<br>Number of Deaths: 2054\", \"State: Georgia<br>Number of Deaths: 607\", \"State: Hawaii<br>Number of Deaths: 92\", \"State: Idaho<br>Number of Deaths: 102\", \"State: Illinois<br>Number of Deaths: 847\", \"State: Indiana<br>Number of Deaths: 434\", \"State: Iowa<br>Number of Deaths: 96\", \"State: Kansas<br>Number of Deaths: 188\", \"State: Kentucky<br>Number of Deaths: 560\", \"State: Louisiana<br>Number of Deaths: 536\", \"State: Maine<br>Number of Deaths: 133\", \"State: Maryland<br>Number of Deaths: 779\", \"State: Massachusetts<br>Number of Deaths: 823\", \"State: Michigan<br>Number of Deaths: 761\", \"State: Minnesota<br>Number of Deaths: 246\", \"State: Mississippi<br>Number of Deaths: 207\", \"State: Missouri<br>Number of Deaths: 522\", \"State: Montana<br>Number of Deaths: 93\", \"State: Nebraska<br>Number of Deaths: 55\", \"State: Nevada<br>Number of Deaths: 342\", \"State: New Hampshire<br>Number of Deaths: 127\", \"State: New Jersey<br>Number of Deaths: 721\", \"State: New Mexico<br>Number of Deaths: 358\", \"State: New York<br>Number of Deaths: 964\", \"State: North Carolina<br>Number of Deaths: 762\", \"State: North Dakota<br>Number of Deaths: 22\", \"State: Ohio<br>Number of Deaths: 775\", \"State: Oklahoma<br>Number of Deaths: 400\", \"State: Oregon<br>Number of Deaths: 355\", \"State: Pennsylvania<br>Number of Deaths: 1381\", \"State: Rhode Island<br>Number of Deaths: 146\", \"State: South Carolina<br>Number of Deaths: 287\", \"State: South Dakota<br>Number of Deaths: 24\", \"State: Tennessee<br>Number of Deaths: 662\", \"State: Texas<br>Number of Deaths: 1753\", \"State: Utah<br>Number of Deaths: 353\", \"State: Vermont<br>Number of Deaths: 65\", \"State: Virginia<br>Number of Deaths: 547\", \"State: Washington<br>Number of Deaths: 696\", \"State: West Virginia<br>Number of Deaths: 262\", \"State: Wisconsin<br>Number of Deaths: 383\", \"State: Wyoming<br>Number of Deaths: 30\"], \"marker\": {\"line\": {\"color\": \"rgb(255,255,255)\", \"width\": 2}}, \"colorbar\": {\"title\": \"Percent Population <br>Adjusted Rate of <br>Death\"}}], {\"title\": \"Percent Rate of Death per State for year: 2003\", \"geo\": {\"scope\": \"usa\"}}, {\"showLink\": true, \"linkText\": \"Export to plot.ly\"})});</script>"
      ]
     },
     "metadata": {},
     "output_type": "display_data"
    },
    {
     "data": {
      "application/vnd.plotly.v1+json": {
       "data": [
        {
         "autocolorscale": true,
         "colorbar": {
          "title": "Percent Population <br>Adjusted Rate of <br>Death"
         },
         "locationmode": "USA-states",
         "locations": [
          "AL",
          "AK",
          "AZ",
          "AR",
          "CA",
          "CO",
          "CT",
          "DE",
          "DC",
          "FL",
          "GA",
          "HI",
          "ID",
          "IL",
          "IN",
          "IA",
          "KS",
          "KY",
          "LA",
          "ME",
          "MD",
          "MA",
          "MI",
          "MN",
          "MS",
          "MO",
          "MT",
          "NE",
          "NV",
          "NH",
          "NJ",
          "NM",
          "NY",
          "NC",
          "ND",
          "OH",
          "OK",
          "OR",
          "PA",
          "RI",
          "SC",
          "SD",
          "TN",
          "TX",
          "UT",
          "VT",
          "VA",
          "WA",
          "WV",
          "WI",
          "WY"
         ],
         "marker": {
          "line": {
           "color": "rgb(255,255,255)",
           "width": 2
          }
         },
         "text": [
          "State: Alabama<br>Number of Deaths: 511",
          "State: Alaska<br>Number of Deaths: 72",
          "State: Arizona<br>Number of Deaths: 943",
          "State: Arkansas<br>Number of Deaths: 301",
          "State: California<br>Number of Deaths: 3854",
          "State: Colorado<br>Number of Deaths: 734",
          "State: Connecticut<br>Number of Deaths: 433",
          "State: Delaware<br>Number of Deaths: 97",
          "State: District of Columbia<br>Number of Deaths: 61",
          "State: Florida<br>Number of Deaths: 2794",
          "State: Georgia<br>Number of Deaths: 923",
          "State: Hawaii<br>Number of Deaths: 136",
          "State: Idaho<br>Number of Deaths: 126",
          "State: Illinois<br>Number of Deaths: 1192",
          "State: Indiana<br>Number of Deaths: 781",
          "State: Iowa<br>Number of Deaths: 203",
          "State: Kansas<br>Number of Deaths: 270",
          "State: Kentucky<br>Number of Deaths: 708",
          "State: Louisiana<br>Number of Deaths: 808",
          "State: Maine<br>Number of Deaths: 159",
          "State: Maryland<br>Number of Deaths: 769",
          "State: Massachusetts<br>Number of Deaths: 922",
          "State: Michigan<br>Number of Deaths: 1236",
          "State: Minnesota<br>Number of Deaths: 341",
          "State: Mississippi<br>Number of Deaths: 314",
          "State: Missouri<br>Number of Deaths: 714",
          "State: Montana<br>Number of Deaths: 125",
          "State: Nebraska<br>Number of Deaths: 80",
          "State: Nevada<br>Number of Deaths: 499",
          "State: New Hampshire<br>Number of Deaths: 186",
          "State: New Jersey<br>Number of Deaths: 727",
          "State: New Mexico<br>Number of Deaths: 462",
          "State: New York<br>Number of Deaths: 1708",
          "State: North Carolina<br>Number of Deaths: 1084",
          "State: North Dakota<br>Number of Deaths: 32",
          "State: Ohio<br>Number of Deaths: 1592",
          "State: Oklahoma<br>Number of Deaths: 666",
          "State: Oregon<br>Number of Deaths: 502",
          "State: Pennsylvania<br>Number of Deaths: 1733",
          "State: Rhode Island<br>Number of Deaths: 135",
          "State: South Carolina<br>Number of Deaths: 545",
          "State: South Dakota<br>Number of Deaths: 32",
          "State: Tennessee<br>Number of Deaths: 985",
          "State: Texas<br>Number of Deaths: 2194",
          "State: Utah<br>Number of Deaths: 511",
          "State: Vermont<br>Number of Deaths: 66",
          "State: Virginia<br>Number of Deaths: 700",
          "State: Washington<br>Number of Deaths: 962",
          "State: West Virginia<br>Number of Deaths: 397",
          "State: Wisconsin<br>Number of Deaths: 622",
          "State: Wyoming<br>Number of Deaths: 63"
         ],
         "type": "choropleth",
         "z": [
          0.010935533850934336,
          0.010583566073790974,
          0.015289376995989253,
          0.010566408649711267,
          0.010631632925852692,
          0.015279354053858267,
          0.012275782687460842,
          0.01112705606774427,
          0.010619703205409434,
          0.015211367780711528,
          0.009871670423534233,
          0.01033689931023999,
          0.00837150896449085,
          0.009388882963950627,
          0.012242148762014664,
          0.006768444511425001,
          0.009699024888775535,
          0.016632712128160216,
          0.018466119127951236,
          0.011981552929828792,
          0.013602414685089066,
          0.014335560009633746,
          0.012358413179747722,
          0.006548621207969039,
          0.010722761964929056,
          0.012127157835808474,
          0.012957315493010305,
          0.004485713004081999,
          0.01918439781751524,
          0.014170996693434107,
          0.008377617357224715,
          0.02321526378469099,
          0.008927295074019976,
          0.011888523812746098,
          0.004901795588996694,
          0.013842914914419135,
          0.01832515259266515,
          0.013485861471189284,
          0.013793447069974962,
          0.012768191125634272,
          0.012263422822567397,
          0.004042328229472868,
          0.015949539220240793,
          0.009206115999663141,
          0.01967089931040217,
          0.010585727552242971,
          0.00903109276222423,
          0.014887983400981833,
          0.021646060198947468,
          0.011085812566000242,
          0.011778430888654566
         ]
        }
       ],
       "layout": {
        "geo": {
         "scope": "usa"
        },
        "title": "Percent Rate of Death per State for year: 2007"
       }
      },
      "text/html": [
       "<div id=\"e70f66bd-9476-4321-a342-1ad257be5927\" style=\"height: 525px; width: 100%;\" class=\"plotly-graph-div\"></div><script type=\"text/javascript\">require([\"plotly\"], function(Plotly) { window.PLOTLYENV=window.PLOTLYENV || {};window.PLOTLYENV.BASE_URL=\"https://plot.ly\";Plotly.newPlot(\"e70f66bd-9476-4321-a342-1ad257be5927\", [{\"type\": \"choropleth\", \"autocolorscale\": true, \"locations\": [\"AL\", \"AK\", \"AZ\", \"AR\", \"CA\", \"CO\", \"CT\", \"DE\", \"DC\", \"FL\", \"GA\", \"HI\", \"ID\", \"IL\", \"IN\", \"IA\", \"KS\", \"KY\", \"LA\", \"ME\", \"MD\", \"MA\", \"MI\", \"MN\", \"MS\", \"MO\", \"MT\", \"NE\", \"NV\", \"NH\", \"NJ\", \"NM\", \"NY\", \"NC\", \"ND\", \"OH\", \"OK\", \"OR\", \"PA\", \"RI\", \"SC\", \"SD\", \"TN\", \"TX\", \"UT\", \"VT\", \"VA\", \"WA\", \"WV\", \"WI\", \"WY\"], \"z\": [0.010935533850934336, 0.010583566073790974, 0.015289376995989253, 0.010566408649711267, 0.010631632925852692, 0.015279354053858267, 0.012275782687460842, 0.01112705606774427, 0.010619703205409434, 0.015211367780711528, 0.009871670423534233, 0.01033689931023999, 0.00837150896449085, 0.009388882963950627, 0.012242148762014664, 0.006768444511425001, 0.009699024888775535, 0.016632712128160216, 0.018466119127951236, 0.011981552929828792, 0.013602414685089066, 0.014335560009633746, 0.012358413179747722, 0.006548621207969039, 0.010722761964929056, 0.012127157835808474, 0.012957315493010305, 0.004485713004081999, 0.01918439781751524, 0.014170996693434107, 0.008377617357224715, 0.02321526378469099, 0.008927295074019976, 0.011888523812746098, 0.004901795588996694, 0.013842914914419135, 0.01832515259266515, 0.013485861471189284, 0.013793447069974962, 0.012768191125634272, 0.012263422822567397, 0.004042328229472868, 0.015949539220240793, 0.009206115999663141, 0.01967089931040217, 0.010585727552242971, 0.00903109276222423, 0.014887983400981833, 0.021646060198947468, 0.011085812566000242, 0.011778430888654566], \"locationmode\": \"USA-states\", \"text\": [\"State: Alabama<br>Number of Deaths: 511\", \"State: Alaska<br>Number of Deaths: 72\", \"State: Arizona<br>Number of Deaths: 943\", \"State: Arkansas<br>Number of Deaths: 301\", \"State: California<br>Number of Deaths: 3854\", \"State: Colorado<br>Number of Deaths: 734\", \"State: Connecticut<br>Number of Deaths: 433\", \"State: Delaware<br>Number of Deaths: 97\", \"State: District of Columbia<br>Number of Deaths: 61\", \"State: Florida<br>Number of Deaths: 2794\", \"State: Georgia<br>Number of Deaths: 923\", \"State: Hawaii<br>Number of Deaths: 136\", \"State: Idaho<br>Number of Deaths: 126\", \"State: Illinois<br>Number of Deaths: 1192\", \"State: Indiana<br>Number of Deaths: 781\", \"State: Iowa<br>Number of Deaths: 203\", \"State: Kansas<br>Number of Deaths: 270\", \"State: Kentucky<br>Number of Deaths: 708\", \"State: Louisiana<br>Number of Deaths: 808\", \"State: Maine<br>Number of Deaths: 159\", \"State: Maryland<br>Number of Deaths: 769\", \"State: Massachusetts<br>Number of Deaths: 922\", \"State: Michigan<br>Number of Deaths: 1236\", \"State: Minnesota<br>Number of Deaths: 341\", \"State: Mississippi<br>Number of Deaths: 314\", \"State: Missouri<br>Number of Deaths: 714\", \"State: Montana<br>Number of Deaths: 125\", \"State: Nebraska<br>Number of Deaths: 80\", \"State: Nevada<br>Number of Deaths: 499\", \"State: New Hampshire<br>Number of Deaths: 186\", \"State: New Jersey<br>Number of Deaths: 727\", \"State: New Mexico<br>Number of Deaths: 462\", \"State: New York<br>Number of Deaths: 1708\", \"State: North Carolina<br>Number of Deaths: 1084\", \"State: North Dakota<br>Number of Deaths: 32\", \"State: Ohio<br>Number of Deaths: 1592\", \"State: Oklahoma<br>Number of Deaths: 666\", \"State: Oregon<br>Number of Deaths: 502\", \"State: Pennsylvania<br>Number of Deaths: 1733\", \"State: Rhode Island<br>Number of Deaths: 135\", \"State: South Carolina<br>Number of Deaths: 545\", \"State: South Dakota<br>Number of Deaths: 32\", \"State: Tennessee<br>Number of Deaths: 985\", \"State: Texas<br>Number of Deaths: 2194\", \"State: Utah<br>Number of Deaths: 511\", \"State: Vermont<br>Number of Deaths: 66\", \"State: Virginia<br>Number of Deaths: 700\", \"State: Washington<br>Number of Deaths: 962\", \"State: West Virginia<br>Number of Deaths: 397\", \"State: Wisconsin<br>Number of Deaths: 622\", \"State: Wyoming<br>Number of Deaths: 63\"], \"marker\": {\"line\": {\"color\": \"rgb(255,255,255)\", \"width\": 2}}, \"colorbar\": {\"title\": \"Percent Population <br>Adjusted Rate of <br>Death\"}}], {\"title\": \"Percent Rate of Death per State for year: 2007\", \"geo\": {\"scope\": \"usa\"}}, {\"showLink\": true, \"linkText\": \"Export to plot.ly\"})});</script>"
      ],
      "text/vnd.plotly.v1+html": [
       "<div id=\"e70f66bd-9476-4321-a342-1ad257be5927\" style=\"height: 525px; width: 100%;\" class=\"plotly-graph-div\"></div><script type=\"text/javascript\">require([\"plotly\"], function(Plotly) { window.PLOTLYENV=window.PLOTLYENV || {};window.PLOTLYENV.BASE_URL=\"https://plot.ly\";Plotly.newPlot(\"e70f66bd-9476-4321-a342-1ad257be5927\", [{\"type\": \"choropleth\", \"autocolorscale\": true, \"locations\": [\"AL\", \"AK\", \"AZ\", \"AR\", \"CA\", \"CO\", \"CT\", \"DE\", \"DC\", \"FL\", \"GA\", \"HI\", \"ID\", \"IL\", \"IN\", \"IA\", \"KS\", \"KY\", \"LA\", \"ME\", \"MD\", \"MA\", \"MI\", \"MN\", \"MS\", \"MO\", \"MT\", \"NE\", \"NV\", \"NH\", \"NJ\", \"NM\", \"NY\", \"NC\", \"ND\", \"OH\", \"OK\", \"OR\", \"PA\", \"RI\", \"SC\", \"SD\", \"TN\", \"TX\", \"UT\", \"VT\", \"VA\", \"WA\", \"WV\", \"WI\", \"WY\"], \"z\": [0.010935533850934336, 0.010583566073790974, 0.015289376995989253, 0.010566408649711267, 0.010631632925852692, 0.015279354053858267, 0.012275782687460842, 0.01112705606774427, 0.010619703205409434, 0.015211367780711528, 0.009871670423534233, 0.01033689931023999, 0.00837150896449085, 0.009388882963950627, 0.012242148762014664, 0.006768444511425001, 0.009699024888775535, 0.016632712128160216, 0.018466119127951236, 0.011981552929828792, 0.013602414685089066, 0.014335560009633746, 0.012358413179747722, 0.006548621207969039, 0.010722761964929056, 0.012127157835808474, 0.012957315493010305, 0.004485713004081999, 0.01918439781751524, 0.014170996693434107, 0.008377617357224715, 0.02321526378469099, 0.008927295074019976, 0.011888523812746098, 0.004901795588996694, 0.013842914914419135, 0.01832515259266515, 0.013485861471189284, 0.013793447069974962, 0.012768191125634272, 0.012263422822567397, 0.004042328229472868, 0.015949539220240793, 0.009206115999663141, 0.01967089931040217, 0.010585727552242971, 0.00903109276222423, 0.014887983400981833, 0.021646060198947468, 0.011085812566000242, 0.011778430888654566], \"locationmode\": \"USA-states\", \"text\": [\"State: Alabama<br>Number of Deaths: 511\", \"State: Alaska<br>Number of Deaths: 72\", \"State: Arizona<br>Number of Deaths: 943\", \"State: Arkansas<br>Number of Deaths: 301\", \"State: California<br>Number of Deaths: 3854\", \"State: Colorado<br>Number of Deaths: 734\", \"State: Connecticut<br>Number of Deaths: 433\", \"State: Delaware<br>Number of Deaths: 97\", \"State: District of Columbia<br>Number of Deaths: 61\", \"State: Florida<br>Number of Deaths: 2794\", \"State: Georgia<br>Number of Deaths: 923\", \"State: Hawaii<br>Number of Deaths: 136\", \"State: Idaho<br>Number of Deaths: 126\", \"State: Illinois<br>Number of Deaths: 1192\", \"State: Indiana<br>Number of Deaths: 781\", \"State: Iowa<br>Number of Deaths: 203\", \"State: Kansas<br>Number of Deaths: 270\", \"State: Kentucky<br>Number of Deaths: 708\", \"State: Louisiana<br>Number of Deaths: 808\", \"State: Maine<br>Number of Deaths: 159\", \"State: Maryland<br>Number of Deaths: 769\", \"State: Massachusetts<br>Number of Deaths: 922\", \"State: Michigan<br>Number of Deaths: 1236\", \"State: Minnesota<br>Number of Deaths: 341\", \"State: Mississippi<br>Number of Deaths: 314\", \"State: Missouri<br>Number of Deaths: 714\", \"State: Montana<br>Number of Deaths: 125\", \"State: Nebraska<br>Number of Deaths: 80\", \"State: Nevada<br>Number of Deaths: 499\", \"State: New Hampshire<br>Number of Deaths: 186\", \"State: New Jersey<br>Number of Deaths: 727\", \"State: New Mexico<br>Number of Deaths: 462\", \"State: New York<br>Number of Deaths: 1708\", \"State: North Carolina<br>Number of Deaths: 1084\", \"State: North Dakota<br>Number of Deaths: 32\", \"State: Ohio<br>Number of Deaths: 1592\", \"State: Oklahoma<br>Number of Deaths: 666\", \"State: Oregon<br>Number of Deaths: 502\", \"State: Pennsylvania<br>Number of Deaths: 1733\", \"State: Rhode Island<br>Number of Deaths: 135\", \"State: South Carolina<br>Number of Deaths: 545\", \"State: South Dakota<br>Number of Deaths: 32\", \"State: Tennessee<br>Number of Deaths: 985\", \"State: Texas<br>Number of Deaths: 2194\", \"State: Utah<br>Number of Deaths: 511\", \"State: Vermont<br>Number of Deaths: 66\", \"State: Virginia<br>Number of Deaths: 700\", \"State: Washington<br>Number of Deaths: 962\", \"State: West Virginia<br>Number of Deaths: 397\", \"State: Wisconsin<br>Number of Deaths: 622\", \"State: Wyoming<br>Number of Deaths: 63\"], \"marker\": {\"line\": {\"color\": \"rgb(255,255,255)\", \"width\": 2}}, \"colorbar\": {\"title\": \"Percent Population <br>Adjusted Rate of <br>Death\"}}], {\"title\": \"Percent Rate of Death per State for year: 2007\", \"geo\": {\"scope\": \"usa\"}}, {\"showLink\": true, \"linkText\": \"Export to plot.ly\"})});</script>"
      ]
     },
     "metadata": {},
     "output_type": "display_data"
    },
    {
     "data": {
      "application/vnd.plotly.v1+json": {
       "data": [
        {
         "autocolorscale": true,
         "colorbar": {
          "title": "Percent Population <br>Adjusted Rate of <br>Death"
         },
         "locationmode": "USA-states",
         "locations": [
          "AL",
          "AK",
          "AZ",
          "AR",
          "CA",
          "CO",
          "CT",
          "DE",
          "DC",
          "FL",
          "GA",
          "HI",
          "ID",
          "IL",
          "IN",
          "IA",
          "KS",
          "KY",
          "LA",
          "ME",
          "MD",
          "MA",
          "MI",
          "MN",
          "MS",
          "MO",
          "MT",
          "NE",
          "NV",
          "NH",
          "NJ",
          "NM",
          "NY",
          "NC",
          "ND",
          "OH",
          "OK",
          "OR",
          "PA",
          "RI",
          "SC",
          "SD",
          "TN",
          "TX",
          "UT",
          "VT",
          "VA",
          "WA",
          "WV",
          "WI",
          "WY"
         ],
         "marker": {
          "line": {
           "color": "rgb(255,255,255)",
           "width": 2
          }
         },
         "text": [
          "State: Alabama<br>Number of Deaths: 552",
          "State: Alaska<br>Number of Deaths: 107",
          "State: Arizona<br>Number of Deaths: 1071",
          "State: Arkansas<br>Number of Deaths: 355",
          "State: California<br>Number of Deaths: 4180",
          "State: Colorado<br>Number of Deaths: 843",
          "State: Connecticut<br>Number of Deaths: 402",
          "State: Delaware<br>Number of Deaths: 160",
          "State: District of Columbia<br>Number of Deaths: 86",
          "State: Florida<br>Number of Deaths: 2918",
          "State: Georgia<br>Number of Deaths: 1058",
          "State: Hawaii<br>Number of Deaths: 180",
          "State: Idaho<br>Number of Deaths: 193",
          "State: Illinois<br>Number of Deaths: 1408",
          "State: Indiana<br>Number of Deaths: 975",
          "State: Iowa<br>Number of Deaths: 250",
          "State: Kansas<br>Number of Deaths: 280",
          "State: Kentucky<br>Number of Deaths: 1058",
          "State: Louisiana<br>Number of Deaths: 601",
          "State: Maine<br>Number of Deaths: 156",
          "State: Maryland<br>Number of Deaths: 707",
          "State: Massachusetts<br>Number of Deaths: 857",
          "State: Michigan<br>Number of Deaths: 1386",
          "State: Minnesota<br>Number of Deaths: 511",
          "State: Mississippi<br>Number of Deaths: 302",
          "State: Missouri<br>Number of Deaths: 963",
          "State: Montana<br>Number of Deaths: 141",
          "State: Nebraska<br>Number of Deaths: 129",
          "State: Nevada<br>Number of Deaths: 639",
          "State: New Hampshire<br>Number of Deaths: 210",
          "State: New Jersey<br>Number of Deaths: 1012",
          "State: New Mexico<br>Number of Deaths: 529",
          "State: New York<br>Number of Deaths: 1948",
          "State: North Carolina<br>Number of Deaths: 1264",
          "State: North Dakota<br>Number of Deaths: 16",
          "State: Ohio<br>Number of Deaths: 2025",
          "State: Oklahoma<br>Number of Deaths: 703",
          "State: Oregon<br>Number of Deaths: 532",
          "State: Pennsylvania<br>Number of Deaths: 2289",
          "State: Rhode Island<br>Number of Deaths: 190",
          "State: South Carolina<br>Number of Deaths: 618",
          "State: South Dakota<br>Number of Deaths: 57",
          "State: Tennessee<br>Number of Deaths: 1090",
          "State: Texas<br>Number of Deaths: 2589",
          "State: Utah<br>Number of Deaths: 504",
          "State: Vermont<br>Number of Deaths: 83",
          "State: Virginia<br>Number of Deaths: 798",
          "State: Washington<br>Number of Deaths: 997",
          "State: West Virginia<br>Number of Deaths: 635",
          "State: Wisconsin<br>Number of Deaths: 698",
          "State: Wyoming<br>Number of Deaths: 85"
         ],
         "type": "choropleth",
         "z": [
          0.0114934391618118,
          0.014805221400324885,
          0.01652139103633549,
          0.012083136060536851,
          0.01108991233981444,
          0.016475153592208875,
          0.011226826865852545,
          0.01763794804521929,
          0.013915947676036738,
          0.015311523385334792,
          0.010779188626631525,
          0.013092718266524101,
          0.012176771389003681,
          0.010940802565369548,
          0.014961050630957375,
          0.008163774459076468,
          0.0097518909961487,
          0.024214094708693915,
          0.01313708294679853,
          0.011745325209985334,
          0.012130489754368735,
          0.013009416570930313,
          0.014033756144957565,
          0.009560585392211322,
          0.010139291028540425,
          0.016021460438472267,
          0.014125439917291042,
          0.0070008211040566235,
          0.02346398993582103,
          0.015930887259386708,
          0.01147242056170649,
          0.025405527935515104,
          0.010007604854962424,
          0.013089762945842867,
          0.002339413859857413,
          0.017540135077229867,
          0.01854143522841044,
          0.013740169773744345,
          0.017962963805844296,
          0.018072827788780006,
          0.01320730120126602,
          0.006916787407078421,
          0.017022331893931195,
          0.01008386433311479,
          0.017889963943203625,
          0.013249663570289467,
          0.009855984064429975,
          0.014597283353328343,
          0.03422509006318976,
          0.012220386440833458,
          0.014960627149490107
         ]
        }
       ],
       "layout": {
        "geo": {
         "scope": "usa"
        },
        "title": "Percent Rate of Death per State for year: 2011"
       }
      },
      "text/html": [
       "<div id=\"0b331ac0-0978-4cec-b796-e6ae127f70a1\" style=\"height: 525px; width: 100%;\" class=\"plotly-graph-div\"></div><script type=\"text/javascript\">require([\"plotly\"], function(Plotly) { window.PLOTLYENV=window.PLOTLYENV || {};window.PLOTLYENV.BASE_URL=\"https://plot.ly\";Plotly.newPlot(\"0b331ac0-0978-4cec-b796-e6ae127f70a1\", [{\"type\": \"choropleth\", \"autocolorscale\": true, \"locations\": [\"AL\", \"AK\", \"AZ\", \"AR\", \"CA\", \"CO\", \"CT\", \"DE\", \"DC\", \"FL\", \"GA\", \"HI\", \"ID\", \"IL\", \"IN\", \"IA\", \"KS\", \"KY\", \"LA\", \"ME\", \"MD\", \"MA\", \"MI\", \"MN\", \"MS\", \"MO\", \"MT\", \"NE\", \"NV\", \"NH\", \"NJ\", \"NM\", \"NY\", \"NC\", \"ND\", \"OH\", \"OK\", \"OR\", \"PA\", \"RI\", \"SC\", \"SD\", \"TN\", \"TX\", \"UT\", \"VT\", \"VA\", \"WA\", \"WV\", \"WI\", \"WY\"], \"z\": [0.0114934391618118, 0.014805221400324885, 0.01652139103633549, 0.012083136060536851, 0.01108991233981444, 0.016475153592208875, 0.011226826865852545, 0.01763794804521929, 0.013915947676036738, 0.015311523385334792, 0.010779188626631525, 0.013092718266524101, 0.012176771389003681, 0.010940802565369548, 0.014961050630957375, 0.008163774459076468, 0.0097518909961487, 0.024214094708693915, 0.01313708294679853, 0.011745325209985334, 0.012130489754368735, 0.013009416570930313, 0.014033756144957565, 0.009560585392211322, 0.010139291028540425, 0.016021460438472267, 0.014125439917291042, 0.0070008211040566235, 0.02346398993582103, 0.015930887259386708, 0.01147242056170649, 0.025405527935515104, 0.010007604854962424, 0.013089762945842867, 0.002339413859857413, 0.017540135077229867, 0.01854143522841044, 0.013740169773744345, 0.017962963805844296, 0.018072827788780006, 0.01320730120126602, 0.006916787407078421, 0.017022331893931195, 0.01008386433311479, 0.017889963943203625, 0.013249663570289467, 0.009855984064429975, 0.014597283353328343, 0.03422509006318976, 0.012220386440833458, 0.014960627149490107], \"locationmode\": \"USA-states\", \"text\": [\"State: Alabama<br>Number of Deaths: 552\", \"State: Alaska<br>Number of Deaths: 107\", \"State: Arizona<br>Number of Deaths: 1071\", \"State: Arkansas<br>Number of Deaths: 355\", \"State: California<br>Number of Deaths: 4180\", \"State: Colorado<br>Number of Deaths: 843\", \"State: Connecticut<br>Number of Deaths: 402\", \"State: Delaware<br>Number of Deaths: 160\", \"State: District of Columbia<br>Number of Deaths: 86\", \"State: Florida<br>Number of Deaths: 2918\", \"State: Georgia<br>Number of Deaths: 1058\", \"State: Hawaii<br>Number of Deaths: 180\", \"State: Idaho<br>Number of Deaths: 193\", \"State: Illinois<br>Number of Deaths: 1408\", \"State: Indiana<br>Number of Deaths: 975\", \"State: Iowa<br>Number of Deaths: 250\", \"State: Kansas<br>Number of Deaths: 280\", \"State: Kentucky<br>Number of Deaths: 1058\", \"State: Louisiana<br>Number of Deaths: 601\", \"State: Maine<br>Number of Deaths: 156\", \"State: Maryland<br>Number of Deaths: 707\", \"State: Massachusetts<br>Number of Deaths: 857\", \"State: Michigan<br>Number of Deaths: 1386\", \"State: Minnesota<br>Number of Deaths: 511\", \"State: Mississippi<br>Number of Deaths: 302\", \"State: Missouri<br>Number of Deaths: 963\", \"State: Montana<br>Number of Deaths: 141\", \"State: Nebraska<br>Number of Deaths: 129\", \"State: Nevada<br>Number of Deaths: 639\", \"State: New Hampshire<br>Number of Deaths: 210\", \"State: New Jersey<br>Number of Deaths: 1012\", \"State: New Mexico<br>Number of Deaths: 529\", \"State: New York<br>Number of Deaths: 1948\", \"State: North Carolina<br>Number of Deaths: 1264\", \"State: North Dakota<br>Number of Deaths: 16\", \"State: Ohio<br>Number of Deaths: 2025\", \"State: Oklahoma<br>Number of Deaths: 703\", \"State: Oregon<br>Number of Deaths: 532\", \"State: Pennsylvania<br>Number of Deaths: 2289\", \"State: Rhode Island<br>Number of Deaths: 190\", \"State: South Carolina<br>Number of Deaths: 618\", \"State: South Dakota<br>Number of Deaths: 57\", \"State: Tennessee<br>Number of Deaths: 1090\", \"State: Texas<br>Number of Deaths: 2589\", \"State: Utah<br>Number of Deaths: 504\", \"State: Vermont<br>Number of Deaths: 83\", \"State: Virginia<br>Number of Deaths: 798\", \"State: Washington<br>Number of Deaths: 997\", \"State: West Virginia<br>Number of Deaths: 635\", \"State: Wisconsin<br>Number of Deaths: 698\", \"State: Wyoming<br>Number of Deaths: 85\"], \"marker\": {\"line\": {\"color\": \"rgb(255,255,255)\", \"width\": 2}}, \"colorbar\": {\"title\": \"Percent Population <br>Adjusted Rate of <br>Death\"}}], {\"title\": \"Percent Rate of Death per State for year: 2011\", \"geo\": {\"scope\": \"usa\"}}, {\"showLink\": true, \"linkText\": \"Export to plot.ly\"})});</script>"
      ],
      "text/vnd.plotly.v1+html": [
       "<div id=\"0b331ac0-0978-4cec-b796-e6ae127f70a1\" style=\"height: 525px; width: 100%;\" class=\"plotly-graph-div\"></div><script type=\"text/javascript\">require([\"plotly\"], function(Plotly) { window.PLOTLYENV=window.PLOTLYENV || {};window.PLOTLYENV.BASE_URL=\"https://plot.ly\";Plotly.newPlot(\"0b331ac0-0978-4cec-b796-e6ae127f70a1\", [{\"type\": \"choropleth\", \"autocolorscale\": true, \"locations\": [\"AL\", \"AK\", \"AZ\", \"AR\", \"CA\", \"CO\", \"CT\", \"DE\", \"DC\", \"FL\", \"GA\", \"HI\", \"ID\", \"IL\", \"IN\", \"IA\", \"KS\", \"KY\", \"LA\", \"ME\", \"MD\", \"MA\", \"MI\", \"MN\", \"MS\", \"MO\", \"MT\", \"NE\", \"NV\", \"NH\", \"NJ\", \"NM\", \"NY\", \"NC\", \"ND\", \"OH\", \"OK\", \"OR\", \"PA\", \"RI\", \"SC\", \"SD\", \"TN\", \"TX\", \"UT\", \"VT\", \"VA\", \"WA\", \"WV\", \"WI\", \"WY\"], \"z\": [0.0114934391618118, 0.014805221400324885, 0.01652139103633549, 0.012083136060536851, 0.01108991233981444, 0.016475153592208875, 0.011226826865852545, 0.01763794804521929, 0.013915947676036738, 0.015311523385334792, 0.010779188626631525, 0.013092718266524101, 0.012176771389003681, 0.010940802565369548, 0.014961050630957375, 0.008163774459076468, 0.0097518909961487, 0.024214094708693915, 0.01313708294679853, 0.011745325209985334, 0.012130489754368735, 0.013009416570930313, 0.014033756144957565, 0.009560585392211322, 0.010139291028540425, 0.016021460438472267, 0.014125439917291042, 0.0070008211040566235, 0.02346398993582103, 0.015930887259386708, 0.01147242056170649, 0.025405527935515104, 0.010007604854962424, 0.013089762945842867, 0.002339413859857413, 0.017540135077229867, 0.01854143522841044, 0.013740169773744345, 0.017962963805844296, 0.018072827788780006, 0.01320730120126602, 0.006916787407078421, 0.017022331893931195, 0.01008386433311479, 0.017889963943203625, 0.013249663570289467, 0.009855984064429975, 0.014597283353328343, 0.03422509006318976, 0.012220386440833458, 0.014960627149490107], \"locationmode\": \"USA-states\", \"text\": [\"State: Alabama<br>Number of Deaths: 552\", \"State: Alaska<br>Number of Deaths: 107\", \"State: Arizona<br>Number of Deaths: 1071\", \"State: Arkansas<br>Number of Deaths: 355\", \"State: California<br>Number of Deaths: 4180\", \"State: Colorado<br>Number of Deaths: 843\", \"State: Connecticut<br>Number of Deaths: 402\", \"State: Delaware<br>Number of Deaths: 160\", \"State: District of Columbia<br>Number of Deaths: 86\", \"State: Florida<br>Number of Deaths: 2918\", \"State: Georgia<br>Number of Deaths: 1058\", \"State: Hawaii<br>Number of Deaths: 180\", \"State: Idaho<br>Number of Deaths: 193\", \"State: Illinois<br>Number of Deaths: 1408\", \"State: Indiana<br>Number of Deaths: 975\", \"State: Iowa<br>Number of Deaths: 250\", \"State: Kansas<br>Number of Deaths: 280\", \"State: Kentucky<br>Number of Deaths: 1058\", \"State: Louisiana<br>Number of Deaths: 601\", \"State: Maine<br>Number of Deaths: 156\", \"State: Maryland<br>Number of Deaths: 707\", \"State: Massachusetts<br>Number of Deaths: 857\", \"State: Michigan<br>Number of Deaths: 1386\", \"State: Minnesota<br>Number of Deaths: 511\", \"State: Mississippi<br>Number of Deaths: 302\", \"State: Missouri<br>Number of Deaths: 963\", \"State: Montana<br>Number of Deaths: 141\", \"State: Nebraska<br>Number of Deaths: 129\", \"State: Nevada<br>Number of Deaths: 639\", \"State: New Hampshire<br>Number of Deaths: 210\", \"State: New Jersey<br>Number of Deaths: 1012\", \"State: New Mexico<br>Number of Deaths: 529\", \"State: New York<br>Number of Deaths: 1948\", \"State: North Carolina<br>Number of Deaths: 1264\", \"State: North Dakota<br>Number of Deaths: 16\", \"State: Ohio<br>Number of Deaths: 2025\", \"State: Oklahoma<br>Number of Deaths: 703\", \"State: Oregon<br>Number of Deaths: 532\", \"State: Pennsylvania<br>Number of Deaths: 2289\", \"State: Rhode Island<br>Number of Deaths: 190\", \"State: South Carolina<br>Number of Deaths: 618\", \"State: South Dakota<br>Number of Deaths: 57\", \"State: Tennessee<br>Number of Deaths: 1090\", \"State: Texas<br>Number of Deaths: 2589\", \"State: Utah<br>Number of Deaths: 504\", \"State: Vermont<br>Number of Deaths: 83\", \"State: Virginia<br>Number of Deaths: 798\", \"State: Washington<br>Number of Deaths: 997\", \"State: West Virginia<br>Number of Deaths: 635\", \"State: Wisconsin<br>Number of Deaths: 698\", \"State: Wyoming<br>Number of Deaths: 85\"], \"marker\": {\"line\": {\"color\": \"rgb(255,255,255)\", \"width\": 2}}, \"colorbar\": {\"title\": \"Percent Population <br>Adjusted Rate of <br>Death\"}}], {\"title\": \"Percent Rate of Death per State for year: 2011\", \"geo\": {\"scope\": \"usa\"}}, {\"showLink\": true, \"linkText\": \"Export to plot.ly\"})});</script>"
      ]
     },
     "metadata": {},
     "output_type": "display_data"
    },
    {
     "data": {
      "application/vnd.plotly.v1+json": {
       "data": [
        {
         "autocolorscale": true,
         "colorbar": {
          "title": "Percent Population <br>Adjusted Rate of <br>Death"
         },
         "locationmode": "USA-states",
         "locations": [
          "AL",
          "AK",
          "AZ",
          "AR",
          "CA",
          "CO",
          "CT",
          "DE",
          "DC",
          "FL",
          "GA",
          "HI",
          "ID",
          "IL",
          "IN",
          "IA",
          "KS",
          "KY",
          "LA",
          "ME",
          "MD",
          "MA",
          "MI",
          "MN",
          "MS",
          "MO",
          "MT",
          "NE",
          "NV",
          "NH",
          "NJ",
          "NM",
          "NY",
          "NC",
          "ND",
          "OH",
          "OK",
          "OR",
          "PA",
          "RI",
          "SC",
          "SD",
          "TN",
          "TX",
          "UT",
          "VT",
          "VA",
          "WA",
          "WV",
          "WI",
          "WY"
         ],
         "marker": {
          "line": {
           "color": "rgb(255,255,255)",
           "width": 2
          }
         },
         "text": [
          "State: Alabama<br>Number of Deaths: 736",
          "State: Alaska<br>Number of Deaths: 122",
          "State: Arizona<br>Number of Deaths: 1274",
          "State: Arkansas<br>Number of Deaths: 392",
          "State: California<br>Number of Deaths: 4659",
          "State: Colorado<br>Number of Deaths: 869",
          "State: Connecticut<br>Number of Deaths: 800",
          "State: Delaware<br>Number of Deaths: 198",
          "State: District of Columbia<br>Number of Deaths: 125",
          "State: Florida<br>Number of Deaths: 3228",
          "State: Georgia<br>Number of Deaths: 1302",
          "State: Hawaii<br>Number of Deaths: 169",
          "State: Idaho<br>Number of Deaths: 218",
          "State: Illinois<br>Number of Deaths: 1835",
          "State: Indiana<br>Number of Deaths: 1245",
          "State: Iowa<br>Number of Deaths: 309",
          "State: Kansas<br>Number of Deaths: 329",
          "State: Kentucky<br>Number of Deaths: 1273",
          "State: Louisiana<br>Number of Deaths: 861",
          "State: Maine<br>Number of Deaths: 269",
          "State: Maryland<br>Number of Deaths: 1285",
          "State: Massachusetts<br>Number of Deaths: 1724",
          "State: Michigan<br>Number of Deaths: 1980",
          "State: Minnesota<br>Number of Deaths: 581",
          "State: Mississippi<br>Number of Deaths: 351",
          "State: Missouri<br>Number of Deaths: 1066",
          "State: Montana<br>Number of Deaths: 138",
          "State: Nebraska<br>Number of Deaths: 126",
          "State: Nevada<br>Number of Deaths: 619",
          "State: New Hampshire<br>Number of Deaths: 422",
          "State: New Jersey<br>Number of Deaths: 1454",
          "State: New Mexico<br>Number of Deaths: 501",
          "State: New York<br>Number of Deaths: 2754",
          "State: North Carolina<br>Number of Deaths: 1567",
          "State: North Dakota<br>Number of Deaths: 61",
          "State: Ohio<br>Number of Deaths: 3310",
          "State: Oklahoma<br>Number of Deaths: 725",
          "State: Oregon<br>Number of Deaths: 505",
          "State: Pennsylvania<br>Number of Deaths: 3264",
          "State: Rhode Island<br>Number of Deaths: 310",
          "State: South Carolina<br>Number of Deaths: 761",
          "State: South Dakota<br>Number of Deaths: 65",
          "State: Tennessee<br>Number of Deaths: 1457",
          "State: Texas<br>Number of Deaths: 2588",
          "State: Utah<br>Number of Deaths: 646",
          "State: Vermont<br>Number of Deaths: 99",
          "State: Virginia<br>Number of Deaths: 1039",
          "State: Washington<br>Number of Deaths: 1094",
          "State: West Virginia<br>Number of Deaths: 725",
          "State: Wisconsin<br>Number of Deaths: 878",
          "State: Wyoming<br>Number of Deaths: 96"
         ],
         "type": "choropleth",
         "z": [
          0.015147215083662638,
          0.016521494193101057,
          0.018658287523624924,
          0.013162295128204785,
          0.011901958517216761,
          0.015925743882516757,
          0.022278624272672538,
          0.020931692908807593,
          0.018594881498539186,
          0.015924013056506765,
          0.012746136510926239,
          0.011804948718324841,
          0.013172762594188274,
          0.014269056869773276,
          0.018807555652236966,
          0.009891484967983921,
          0.011299469955258906,
          0.02876776347248825,
          0.01843397297720867,
          0.020235788308077464,
          0.02139384300182422,
          0.02537375511853694,
          0.019954495687410204,
          0.010583660649585378,
          0.011729977913554408,
          0.017522312182510824,
          0.013359807696217335,
          0.006644903728001941,
          0.021412424394943345,
          0.03171482510250953,
          0.016231278074724832,
          0.02402752086341769,
          0.013912048273292035,
          0.015603215118649158,
          0.008058901320735026,
          0.028501502098046375,
          0.01853585652786847,
          0.012534199127967223,
          0.025495014529580664,
          0.029347778751829503,
          0.01554283716212711,
          0.007571618777148622,
          0.02207475752234861,
          0.009421490623978627,
          0.021562665746303555,
          0.015813635506882924,
          0.01239414132875931,
          0.01525727262166106,
          0.03931397386732374,
          0.015213112663495478,
          0.01637926180714443
         ]
        }
       ],
       "layout": {
        "geo": {
         "scope": "usa"
        },
        "title": "Percent Rate of Death per State for year: 2015"
       }
      },
      "text/html": [
       "<div id=\"1f31c3dd-90f5-4903-8022-b0b2d2962727\" style=\"height: 525px; width: 100%;\" class=\"plotly-graph-div\"></div><script type=\"text/javascript\">require([\"plotly\"], function(Plotly) { window.PLOTLYENV=window.PLOTLYENV || {};window.PLOTLYENV.BASE_URL=\"https://plot.ly\";Plotly.newPlot(\"1f31c3dd-90f5-4903-8022-b0b2d2962727\", [{\"type\": \"choropleth\", \"autocolorscale\": true, \"locations\": [\"AL\", \"AK\", \"AZ\", \"AR\", \"CA\", \"CO\", \"CT\", \"DE\", \"DC\", \"FL\", \"GA\", \"HI\", \"ID\", \"IL\", \"IN\", \"IA\", \"KS\", \"KY\", \"LA\", \"ME\", \"MD\", \"MA\", \"MI\", \"MN\", \"MS\", \"MO\", \"MT\", \"NE\", \"NV\", \"NH\", \"NJ\", \"NM\", \"NY\", \"NC\", \"ND\", \"OH\", \"OK\", \"OR\", \"PA\", \"RI\", \"SC\", \"SD\", \"TN\", \"TX\", \"UT\", \"VT\", \"VA\", \"WA\", \"WV\", \"WI\", \"WY\"], \"z\": [0.015147215083662638, 0.016521494193101057, 0.018658287523624924, 0.013162295128204785, 0.011901958517216761, 0.015925743882516757, 0.022278624272672538, 0.020931692908807593, 0.018594881498539186, 0.015924013056506765, 0.012746136510926239, 0.011804948718324841, 0.013172762594188274, 0.014269056869773276, 0.018807555652236966, 0.009891484967983921, 0.011299469955258906, 0.02876776347248825, 0.01843397297720867, 0.020235788308077464, 0.02139384300182422, 0.02537375511853694, 0.019954495687410204, 0.010583660649585378, 0.011729977913554408, 0.017522312182510824, 0.013359807696217335, 0.006644903728001941, 0.021412424394943345, 0.03171482510250953, 0.016231278074724832, 0.02402752086341769, 0.013912048273292035, 0.015603215118649158, 0.008058901320735026, 0.028501502098046375, 0.01853585652786847, 0.012534199127967223, 0.025495014529580664, 0.029347778751829503, 0.01554283716212711, 0.007571618777148622, 0.02207475752234861, 0.009421490623978627, 0.021562665746303555, 0.015813635506882924, 0.01239414132875931, 0.01525727262166106, 0.03931397386732374, 0.015213112663495478, 0.01637926180714443], \"locationmode\": \"USA-states\", \"text\": [\"State: Alabama<br>Number of Deaths: 736\", \"State: Alaska<br>Number of Deaths: 122\", \"State: Arizona<br>Number of Deaths: 1274\", \"State: Arkansas<br>Number of Deaths: 392\", \"State: California<br>Number of Deaths: 4659\", \"State: Colorado<br>Number of Deaths: 869\", \"State: Connecticut<br>Number of Deaths: 800\", \"State: Delaware<br>Number of Deaths: 198\", \"State: District of Columbia<br>Number of Deaths: 125\", \"State: Florida<br>Number of Deaths: 3228\", \"State: Georgia<br>Number of Deaths: 1302\", \"State: Hawaii<br>Number of Deaths: 169\", \"State: Idaho<br>Number of Deaths: 218\", \"State: Illinois<br>Number of Deaths: 1835\", \"State: Indiana<br>Number of Deaths: 1245\", \"State: Iowa<br>Number of Deaths: 309\", \"State: Kansas<br>Number of Deaths: 329\", \"State: Kentucky<br>Number of Deaths: 1273\", \"State: Louisiana<br>Number of Deaths: 861\", \"State: Maine<br>Number of Deaths: 269\", \"State: Maryland<br>Number of Deaths: 1285\", \"State: Massachusetts<br>Number of Deaths: 1724\", \"State: Michigan<br>Number of Deaths: 1980\", \"State: Minnesota<br>Number of Deaths: 581\", \"State: Mississippi<br>Number of Deaths: 351\", \"State: Missouri<br>Number of Deaths: 1066\", \"State: Montana<br>Number of Deaths: 138\", \"State: Nebraska<br>Number of Deaths: 126\", \"State: Nevada<br>Number of Deaths: 619\", \"State: New Hampshire<br>Number of Deaths: 422\", \"State: New Jersey<br>Number of Deaths: 1454\", \"State: New Mexico<br>Number of Deaths: 501\", \"State: New York<br>Number of Deaths: 2754\", \"State: North Carolina<br>Number of Deaths: 1567\", \"State: North Dakota<br>Number of Deaths: 61\", \"State: Ohio<br>Number of Deaths: 3310\", \"State: Oklahoma<br>Number of Deaths: 725\", \"State: Oregon<br>Number of Deaths: 505\", \"State: Pennsylvania<br>Number of Deaths: 3264\", \"State: Rhode Island<br>Number of Deaths: 310\", \"State: South Carolina<br>Number of Deaths: 761\", \"State: South Dakota<br>Number of Deaths: 65\", \"State: Tennessee<br>Number of Deaths: 1457\", \"State: Texas<br>Number of Deaths: 2588\", \"State: Utah<br>Number of Deaths: 646\", \"State: Vermont<br>Number of Deaths: 99\", \"State: Virginia<br>Number of Deaths: 1039\", \"State: Washington<br>Number of Deaths: 1094\", \"State: West Virginia<br>Number of Deaths: 725\", \"State: Wisconsin<br>Number of Deaths: 878\", \"State: Wyoming<br>Number of Deaths: 96\"], \"marker\": {\"line\": {\"color\": \"rgb(255,255,255)\", \"width\": 2}}, \"colorbar\": {\"title\": \"Percent Population <br>Adjusted Rate of <br>Death\"}}], {\"title\": \"Percent Rate of Death per State for year: 2015\", \"geo\": {\"scope\": \"usa\"}}, {\"showLink\": true, \"linkText\": \"Export to plot.ly\"})});</script>"
      ],
      "text/vnd.plotly.v1+html": [
       "<div id=\"1f31c3dd-90f5-4903-8022-b0b2d2962727\" style=\"height: 525px; width: 100%;\" class=\"plotly-graph-div\"></div><script type=\"text/javascript\">require([\"plotly\"], function(Plotly) { window.PLOTLYENV=window.PLOTLYENV || {};window.PLOTLYENV.BASE_URL=\"https://plot.ly\";Plotly.newPlot(\"1f31c3dd-90f5-4903-8022-b0b2d2962727\", [{\"type\": \"choropleth\", \"autocolorscale\": true, \"locations\": [\"AL\", \"AK\", \"AZ\", \"AR\", \"CA\", \"CO\", \"CT\", \"DE\", \"DC\", \"FL\", \"GA\", \"HI\", \"ID\", \"IL\", \"IN\", \"IA\", \"KS\", \"KY\", \"LA\", \"ME\", \"MD\", \"MA\", \"MI\", \"MN\", \"MS\", \"MO\", \"MT\", \"NE\", \"NV\", \"NH\", \"NJ\", \"NM\", \"NY\", \"NC\", \"ND\", \"OH\", \"OK\", \"OR\", \"PA\", \"RI\", \"SC\", \"SD\", \"TN\", \"TX\", \"UT\", \"VT\", \"VA\", \"WA\", \"WV\", \"WI\", \"WY\"], \"z\": [0.015147215083662638, 0.016521494193101057, 0.018658287523624924, 0.013162295128204785, 0.011901958517216761, 0.015925743882516757, 0.022278624272672538, 0.020931692908807593, 0.018594881498539186, 0.015924013056506765, 0.012746136510926239, 0.011804948718324841, 0.013172762594188274, 0.014269056869773276, 0.018807555652236966, 0.009891484967983921, 0.011299469955258906, 0.02876776347248825, 0.01843397297720867, 0.020235788308077464, 0.02139384300182422, 0.02537375511853694, 0.019954495687410204, 0.010583660649585378, 0.011729977913554408, 0.017522312182510824, 0.013359807696217335, 0.006644903728001941, 0.021412424394943345, 0.03171482510250953, 0.016231278074724832, 0.02402752086341769, 0.013912048273292035, 0.015603215118649158, 0.008058901320735026, 0.028501502098046375, 0.01853585652786847, 0.012534199127967223, 0.025495014529580664, 0.029347778751829503, 0.01554283716212711, 0.007571618777148622, 0.02207475752234861, 0.009421490623978627, 0.021562665746303555, 0.015813635506882924, 0.01239414132875931, 0.01525727262166106, 0.03931397386732374, 0.015213112663495478, 0.01637926180714443], \"locationmode\": \"USA-states\", \"text\": [\"State: Alabama<br>Number of Deaths: 736\", \"State: Alaska<br>Number of Deaths: 122\", \"State: Arizona<br>Number of Deaths: 1274\", \"State: Arkansas<br>Number of Deaths: 392\", \"State: California<br>Number of Deaths: 4659\", \"State: Colorado<br>Number of Deaths: 869\", \"State: Connecticut<br>Number of Deaths: 800\", \"State: Delaware<br>Number of Deaths: 198\", \"State: District of Columbia<br>Number of Deaths: 125\", \"State: Florida<br>Number of Deaths: 3228\", \"State: Georgia<br>Number of Deaths: 1302\", \"State: Hawaii<br>Number of Deaths: 169\", \"State: Idaho<br>Number of Deaths: 218\", \"State: Illinois<br>Number of Deaths: 1835\", \"State: Indiana<br>Number of Deaths: 1245\", \"State: Iowa<br>Number of Deaths: 309\", \"State: Kansas<br>Number of Deaths: 329\", \"State: Kentucky<br>Number of Deaths: 1273\", \"State: Louisiana<br>Number of Deaths: 861\", \"State: Maine<br>Number of Deaths: 269\", \"State: Maryland<br>Number of Deaths: 1285\", \"State: Massachusetts<br>Number of Deaths: 1724\", \"State: Michigan<br>Number of Deaths: 1980\", \"State: Minnesota<br>Number of Deaths: 581\", \"State: Mississippi<br>Number of Deaths: 351\", \"State: Missouri<br>Number of Deaths: 1066\", \"State: Montana<br>Number of Deaths: 138\", \"State: Nebraska<br>Number of Deaths: 126\", \"State: Nevada<br>Number of Deaths: 619\", \"State: New Hampshire<br>Number of Deaths: 422\", \"State: New Jersey<br>Number of Deaths: 1454\", \"State: New Mexico<br>Number of Deaths: 501\", \"State: New York<br>Number of Deaths: 2754\", \"State: North Carolina<br>Number of Deaths: 1567\", \"State: North Dakota<br>Number of Deaths: 61\", \"State: Ohio<br>Number of Deaths: 3310\", \"State: Oklahoma<br>Number of Deaths: 725\", \"State: Oregon<br>Number of Deaths: 505\", \"State: Pennsylvania<br>Number of Deaths: 3264\", \"State: Rhode Island<br>Number of Deaths: 310\", \"State: South Carolina<br>Number of Deaths: 761\", \"State: South Dakota<br>Number of Deaths: 65\", \"State: Tennessee<br>Number of Deaths: 1457\", \"State: Texas<br>Number of Deaths: 2588\", \"State: Utah<br>Number of Deaths: 646\", \"State: Vermont<br>Number of Deaths: 99\", \"State: Virginia<br>Number of Deaths: 1039\", \"State: Washington<br>Number of Deaths: 1094\", \"State: West Virginia<br>Number of Deaths: 725\", \"State: Wisconsin<br>Number of Deaths: 878\", \"State: Wyoming<br>Number of Deaths: 96\"], \"marker\": {\"line\": {\"color\": \"rgb(255,255,255)\", \"width\": 2}}, \"colorbar\": {\"title\": \"Percent Population <br>Adjusted Rate of <br>Death\"}}], {\"title\": \"Percent Rate of Death per State for year: 2015\", \"geo\": {\"scope\": \"usa\"}}, {\"showLink\": true, \"linkText\": \"Export to plot.ly\"})});</script>"
      ]
     },
     "metadata": {},
     "output_type": "display_data"
    }
   ],
   "source": [
    "# Plot for each year\n",
    "gr_year = df_states.groupby('Year')\n",
    "\n",
    "# There will be a map for each year in this list: [1999, 2003, 2007, 2011, 2015]\n",
    "years_map = [1999, 2003, 2007, 2011, 2015]\n",
    "for year in years_map:\n",
    "    temp_df = gr_year.get_group(year)\n",
    "    data = [ dict(type='choropleth',  autocolorscale = True, locations = temp_df.state_acronyms,\n",
    "            z = temp_df.rate_of_deaths, locationmode = 'USA-states', text = temp_df.text,\n",
    "            marker = dict( line = dict (color = 'rgb(255,255,255)', width = 2)),\n",
    "            colorbar = dict( title = \"Percent Population <br>Adjusted Rate of <br>Death\")) ]\n",
    "    layout = dict( title = 'Percent Rate of Death per State for year: ' + str(year), geo = dict(scope='usa'))\n",
    "    plotly.offline.iplot(dict(data=data, layout=layout))"
   ]
  },
  {
   "cell_type": "markdown",
   "metadata": {},
   "source": [
    "<p>Based on these maps, drug poisoning deaths occurs more in the West coast in the earlier years (1993-2007) and New Mexico maintained a high death rate until 2015. North Dakota, South Dakota, and Nebraska have low rates of deaths throughout the years. Although the raw data of the number of deaths (shown when hovering over CA on maps) for California is very high in comparison to other states, the population adjusted rate shows at worst moderate mortality compared to the midwestern states.</p>"
   ]
  },
  {
   "cell_type": "markdown",
   "metadata": {
    "collapsed": true
   },
   "source": [
    "<a name=\"graph_sex\"></a><h3>2.3 Analyzing and Visualizing the Number of Deaths Based on Sex</h3>\n",
    "<p>Now we are going to examine if there is a difference in mortality numbers between males and females per year. We will use sklearn linear_model to fit a linear equation in order to predict average increase in number of deaths per year.</p>"
   ]
  },
  {
   "cell_type": "code",
   "execution_count": 56,
   "metadata": {},
   "outputs": [
    {
     "name": "stdout",
     "output_type": "stream",
     "text": [
      "Slope of the linear regression line:\n",
      "\tfor males:  [ 1200.80392157]\n",
      "\tfor females:  [ 859.75980392] \n",
      "\n"
     ]
    },
    {
     "data": {
      "image/png": "[encoded data removed]",
      "text/plain": [
       "<matplotlib.figure.Figure at 0x7f879a7595c0>"
      ]
     },
     "metadata": {},
     "output_type": "display_data"
    }
   ],
   "source": [
    "# Plot to show male, female death due to drug poisoning for all race and age groups per year\n",
    "\n",
    "# MALE   - blue\n",
    "x_male = list(df_male.Year.tolist())\n",
    "y_male = list(df_male.Deaths.tolist())\n",
    "plt.scatter(x_male, y_male, color='lightblue', label='Male')\n",
    "\n",
    "# linear model - male\n",
    "data_x_male =[[m] for m in x_male]     # x values need to be two dimensional for linear_model\n",
    "reg_m = linear_model.LinearRegression()\n",
    "reg_m.fit(data_x_male, y_male)\n",
    "plt.plot(x_male, reg_m.predict(data_x_male), color='lightblue', linestyle='--', label='predicted: male')\n",
    "\n",
    "# FEMALE  - pink\n",
    "x_female = list(df_female.Year.tolist())\n",
    "y_female = list(df_female.Deaths.tolist())\n",
    "plt.scatter(x_female, y_female, color='pink', label='Female')\n",
    "\n",
    "# linear model - female\n",
    "data_x_female =[[f] for f in x_female]\n",
    "reg= linear_model.LinearRegression()\n",
    "reg.fit(data_x_female, y_female)\n",
    "plt.plot(x_female, reg.predict(data_x_female), color='pink', linestyle='--', label='predicted: female')\n",
    "\n",
    "\n",
    "# Print and view the slope linear regression lines for males and females \n",
    "print(\"Slope of the linear regression line:\")\n",
    "print('\\tfor males: ', reg_m.coef_)\n",
    "print('\\tfor females: ', reg.coef_, \"\\n\")\n",
    "\n",
    "# Label the graphs\n",
    "plt.title('Deaths by Drug Poisoning in Males vs. Females over Time\\n')\n",
    "plt.xlabel('\\nYear')\n",
    "plt.ylabel('Number of Deaths by Drug Poisoning\\n')\n",
    "plt.legend(loc='upper left')\n",
    "plt.show()"
   ]
  },
  {
   "cell_type": "markdown",
   "metadata": {},
   "source": [
    "<p>As shown in the data above, both death rates for males and females are steadily increasing through the years, although death rates are much higher in males than in females. Males average about 1201 increase in the number of deaths by drug poisoning per year, while females are only about 860 per year.</p>"
   ]
  },
  {
   "cell_type": "markdown",
   "metadata": {
    "collapsed": true
   },
   "source": [
    "<h3>2.4 Analyzing and Visualizing the Number of Deaths Based on Age Group</h3>\n",
    "<p> From common knowledge, we can predict that some age groups (such as less than 15 years and 75+ years) are less exposed to drugs and therefore, have less mortality by drug poisoning. To see if these predictions are true, we will plot the number of deaths per year for age group.</p>"
   ]
  },
  {
   "cell_type": "code",
   "execution_count": 57,
   "metadata": {},
   "outputs": [
    {
     "data": {
      "image/png": "[encoded data removed]",
      "text/plain": [
       "<matplotlib.figure.Figure at 0x7f879a5dada0>"
      ]
     },
     "metadata": {},
     "output_type": "display_data"
    }
   ],
   "source": [
    "gr_age = df_age.groupby('Age')\n",
    "plt.subplots(figsize=(10,7)) # Resizes the graph\n",
    "\n",
    "# Plot each age group\n",
    "for ag in df_age.Age.unique().tolist():\n",
    "    temp_df = gr_age.get_group(ag)\n",
    "    plt.plot(temp_df.Year.tolist(), temp_df.Deaths.tolist(), label=ag)\n",
    "\n",
    "# Graph labels\n",
    "plt.title('Number of Deaths over Time per Age Group')\n",
    "plt.xlabel('Year')\n",
    "plt.ylabel('Number of Deaths')\n",
    "plt.legend(loc='upper left')\n",
    "plt.show()"
   ]
  },
  {
   "cell_type": "markdown",
   "metadata": {},
   "source": [
    "As predicted, age groups less than 15 and greater than 75 have the lowest mortality. Age group 65-74 years is seeing a slight increase in mortality in recent years. Ages 15-24 has stabilized, shows little to no increase in recent years. The rest of the age groups have increased from 2006 onwards. The highest poisoning death rates are those from ages 45-54."
   ]
  },
  {
   "cell_type": "markdown",
   "metadata": {},
   "source": [
    "<a name=\"graph_race\"></a><h3>2.5 Analyzing and Visualizing the Number of Deaths Per Race</h3>\n",
    "<p> The race and origin categories given by the data are limited: Hispanic and Non-Hipanic (which is further broken down to Black and White). Other race groups are not included. We will plot the number of deaths for each race group vs. year. Similar to what was done for analysis of sex, we will be using linear model to determine average increase in number of deaths per each race category.</p>"
   ]
  },
  {
   "cell_type": "code",
   "execution_count": 58,
   "metadata": {},
   "outputs": [
    {
     "name": "stdout",
     "output_type": "stream",
     "text": [
      "Slope of regression line:\n",
      "\t Hispanic :  [ 141.72303922]\n",
      "\t Non-Hispanic Black :  [ 118.79901961]\n",
      "\t Non-Hispanic White :  [ 1737.56372549]\n"
     ]
    },
    {
     "data": {
      "image/png": "[encoded data removed]",
      "text/plain": [
       "<matplotlib.figure.Figure at 0x7f879eecb160>"
      ]
     },
     "metadata": {},
     "output_type": "display_data"
    }
   ],
   "source": [
    "gr_race = df_race.groupby('Race and Hispanic Origin')\n",
    "plt.subplots(figsize=(10,5))\n",
    "\n",
    "# Plot each race and regression fit.\n",
    "print('Slope of regression line:')\n",
    "for ra in df_race['Race and Hispanic Origin'].unique().tolist():\n",
    "    temp_df = gr_race.get_group(ra)\n",
    "    plt.plot(temp_df.Year.tolist(), temp_df.Deaths.tolist(), label=ra)\n",
    "    \n",
    "    # Linear regression \n",
    "    reg_race = linear_model.LinearRegression()\n",
    "    x_year = [[x] for x in temp_df.Year.tolist()]\n",
    "    reg_race.fit(x_year, temp_df.Deaths)\n",
    "    plt.plot(x_year, reg_race.predict(x_year), linestyle='--', label= ra + ' predicted')\n",
    "    \n",
    "    print ('\\t',ra, ': ', reg_race.coef_)\n",
    "    \n",
    "plt.title('Number of Deaths over Time for each Race')\n",
    "plt.xlabel('Year')\n",
    "plt.ylabel('Number of Deaths')\n",
    "plt.legend(loc='upper left')\n",
    "plt.show()"
   ]
  },
  {
   "cell_type": "markdown",
   "metadata": {},
   "source": [
    "Based on the graph, Non-Hispanic Whites have the highest number of drug poisoning for each of the given years. They have about 1738 increase in mortality by drug poisoning per year, while Hispanics and Non-Hispanic Blacks average lower than 150 increase in mortality."
   ]
  },
  {
   "cell_type": "markdown",
   "metadata": {},
   "source": [
    "<h2>3. Machine Learning</h2>\n",
    "<h4>Prediction model for the Number of Deaths Per Year</h4>\n",
    "<p> In this part, we will explore multiple polynomial degree prediction models for the year dataframe in order to compare how well the model can predict the number of deaths for 2016, which is a year not included in the csv data above but has been published by the Center for Disease Control (CDC) recently and can be found <a href=\"https://www.cdc.gov/nchs/nvss/vsrr/drug-overdose-data.htm\">here</a>.</p>"
   ]
  },
  {
   "cell_type": "markdown",
   "metadata": {},
   "source": [
    "<h3>3.1 Determining the Best Degree Polynomial for Years 1999-2015</h3>\n",
    "<p>As seen by the graph in the <a href=\"#year_graph\">analysis section for year</a>, the number of deaths does not follow a linear line. As a result, when looking for a regression we need to compare multiple models (polynomials with different degrees) to find the best equation that can closely predict the number of deaths for each year. To do this, we will be using the polyfit() and polyval() from the Numpy library.</p>\n",
    "\n",
    "<p>For the given degree, the squared $loss = average ((actual - predicted) ^ 2)$ is calculated to determine the best polynomial degree. The best polynomial fit, which is the one with minimum square loss, will be plotted to show how it visually compares to actual numbers of death. </p>"
   ]
  },
  {
   "cell_type": "code",
   "execution_count": 59,
   "metadata": {
    "collapsed": true
   },
   "outputs": [],
   "source": [
    "# First polyfit usually gives warning when exceeding degree of 4 -- we want to ignore warnings (done below)\n",
    "import warnings\n",
    "warnings.filterwarnings('ignore')"
   ]
  },
  {
   "cell_type": "code",
   "execution_count": 60,
   "metadata": {},
   "outputs": [
    {
     "name": "stdout",
     "output_type": "stream",
     "text": [
      "degree: squared loss {1: 2363878.5945790308, 2: 2200801.3347940976, 3: 1663774.8659375468, 4: 498932.7211339614, 5: 499005.78992955823, 6: 497613.02205882355, 7: 497566.8253102022, 8: 497547.94285673252, 9: 497555.8873793658, 10: 497560.13680850761, 11: 497558.77963077324, 12: 497560.10016048653, 13: 497567.72747264191, 14: 497571.27720417693, 15: 497576.05949648691}\n"
     ]
    }
   ],
   "source": [
    "# Degrees from linear to degree of 15 -- this is a randomly picked number\n",
    "# np.arange creates a list from 1 to 15 (its not inclusive of 16)\n",
    "degree = np.arange(1, 16)  \n",
    "\n",
    "# Squared loss - dictionary strucutre to hold the degree as key and the square loss as value\n",
    "sqr_loss = {}\n",
    "\n",
    "# For each degree do polyfit and polyval to predict the number of deaths for each year from the fitted equation\n",
    "for deg in degree:\n",
    "    pl = np.polyfit(df_year.Year, df_year.Deaths, deg)\n",
    "    pv = np.polyval(pl, df_year.Year) \n",
    "    \n",
    "    # Calculate squared loss by squaring the difference between actual and predicted for each year\n",
    "    sqr_loss [deg] = ((np.array(df_year.Deaths) - pv) ** 2).mean(axis=None)\n",
    "    \n",
    "print('degree: squared loss' , sqr_loss)"
   ]
  },
  {
   "cell_type": "code",
   "execution_count": 61,
   "metadata": {},
   "outputs": [
    {
     "data": {
      "image/png": "[encoded data removed]",
      "text/plain": [
       "<matplotlib.figure.Figure at 0x7f879a729c18>"
      ]
     },
     "metadata": {},
     "output_type": "display_data"
    }
   ],
   "source": [
    "# Determine the minimum squared loss\n",
    "min_sqr_loss = np.min(np.array(list(sqr_loss.values())))\n",
    "\n",
    "# Degree corresponding to minimum squred loss\n",
    "best_deg = 1\n",
    "for key, val in sqr_loss.items():\n",
    "    if val == min_sqr_loss:\n",
    "        best_deg = key\n",
    "\n",
    "# Plot the prediction from polyfit using the best degree \n",
    "pl_fit = np.polyfit(df_year.Year, df_year.Deaths, best_deg)\n",
    "pv = np.polyval(pl_fit, df_year.Year)\n",
    "plt.plot(df_year.Year, pv, label='Polynomial Fit with degree: ' + str(best_deg))\n",
    "plt.plot(df_year.Year, df_year.Deaths, linestyle='--', label='Actual')\n",
    "\n",
    "# Label plots\n",
    "plt.title('Predicted and Actual Number of Deaths vs. Year')\n",
    "plt.xlabel('Year')\n",
    "plt.ylabel('Number of Deaths')\n",
    "plt.legend(loc='upper left')\n",
    "plt.show()"
   ]
  },
  {
   "cell_type": "markdown",
   "metadata": {},
   "source": [
    "<h3>3.2 Comparison of Prediction for 2016 to Actual Number of Deaths</h3>"
   ]
  },
  {
   "cell_type": "markdown",
   "metadata": {},
   "source": [
    "<p> As shown by the plot above, the best degree polynomial is of degree 7. We will use this polyfit degree to predict for the number of deaths for the year 2016, which, as mentioned above, is not included in first csv file. We will then see how it compares to actual numbers obtained from a different data table by the CDC.</p>\n",
    "<p> <i>Hypothesis</i>: In the last few years (2015-present), the rate of increase from drug overdose has been thought to increase at a far more rate than ever seen before; therefore, we can predict that the polynomial fit will underestimte the number of deaths. </p>"
   ]
  },
  {
   "cell_type": "code",
   "execution_count": 62,
   "metadata": {},
   "outputs": [
    {
     "name": "stdout",
     "output_type": "stream",
     "text": [
      "Predicted number of deaths for 2016:  59255.078125\n"
     ]
    }
   ],
   "source": [
    "# Include 2016 into list of years to be predicted for (2017 is not included) -- 2016 prediction will be the last prediction from\n",
    "# Polyval\n",
    "x_years = np.arange(1999, 2017)\n",
    "predict = np.polyval(pl_fit, x_years)\n",
    "pred_2016 = predict[len(predict)-1]\n",
    "print('Predicted number of deaths for 2016: ', pred_2016)"
   ]
  },
  {
   "cell_type": "markdown",
   "metadata": {},
   "source": [
    "<h4>3.2.1 Obtaining Actual 2016 Number of Deaths</h4>\n",
    "<p>Since the data containing the 2016 number of deaths is contained on another csv file (which can be downloaded <a href=\"https://www.cdc.gov/nchs/nvss/vsrr/drug-overdose-data.htm\">here</a>), we will follow the same steps as the <a href=\"#collect\">Data Collection and Wrangling</a> section, in order to get the file and transform it to a data frame. We will then use groupby to locate the row containing the number for December 2016 (end of year report). </p>"
   ]
  },
  {
   "cell_type": "code",
   "execution_count": 63,
   "metadata": {},
   "outputs": [
    {
     "data": {
      "text/html": [
       "<div>\n",
       "<table border=\"1\" class=\"dataframe\">\n",
       "  <thead>\n",
       "    <tr style=\"text-align: right;\">\n",
       "      <th></th>\n",
       "      <th>State</th>\n",
       "      <th>State Name</th>\n",
       "      <th>Year</th>\n",
       "      <th>Month</th>\n",
       "      <th>Period</th>\n",
       "      <th>Indicator</th>\n",
       "      <th>Data Value</th>\n",
       "      <th>Percent Complete</th>\n",
       "      <th>Percent Pending Investigation</th>\n",
       "      <th>Footnote</th>\n",
       "    </tr>\n",
       "  </thead>\n",
       "  <tbody>\n",
       "    <tr>\n",
       "      <th>0</th>\n",
       "      <td>AK</td>\n",
       "      <td>Alaska</td>\n",
       "      <td>2015</td>\n",
       "      <td>January</td>\n",
       "      <td>12 month-ending</td>\n",
       "      <td>Number of Deaths</td>\n",
       "      <td>4,034</td>\n",
       "      <td>100</td>\n",
       "      <td>0.0</td>\n",
       "      <td>NaN</td>\n",
       "    </tr>\n",
       "    <tr>\n",
       "      <th>1</th>\n",
       "      <td>AK</td>\n",
       "      <td>Alaska</td>\n",
       "      <td>2015</td>\n",
       "      <td>February</td>\n",
       "      <td>12 month-ending</td>\n",
       "      <td>Number of Deaths</td>\n",
       "      <td>4,084</td>\n",
       "      <td>100</td>\n",
       "      <td>0.0</td>\n",
       "      <td>NaN</td>\n",
       "    </tr>\n",
       "    <tr>\n",
       "      <th>2</th>\n",
       "      <td>AK</td>\n",
       "      <td>Alaska</td>\n",
       "      <td>2015</td>\n",
       "      <td>March</td>\n",
       "      <td>12 month-ending</td>\n",
       "      <td>Number of Deaths</td>\n",
       "      <td>4,101</td>\n",
       "      <td>100</td>\n",
       "      <td>0.0</td>\n",
       "      <td>NaN</td>\n",
       "    </tr>\n",
       "    <tr>\n",
       "      <th>3</th>\n",
       "      <td>AK</td>\n",
       "      <td>Alaska</td>\n",
       "      <td>2015</td>\n",
       "      <td>April</td>\n",
       "      <td>12 month-ending</td>\n",
       "      <td>Number of Deaths</td>\n",
       "      <td>4,133</td>\n",
       "      <td>100</td>\n",
       "      <td>0.0</td>\n",
       "      <td>NaN</td>\n",
       "    </tr>\n",
       "    <tr>\n",
       "      <th>4</th>\n",
       "      <td>AK</td>\n",
       "      <td>Alaska</td>\n",
       "      <td>2015</td>\n",
       "      <td>May</td>\n",
       "      <td>12 month-ending</td>\n",
       "      <td>Number of Deaths</td>\n",
       "      <td>4,196</td>\n",
       "      <td>100</td>\n",
       "      <td>0.0</td>\n",
       "      <td>NaN</td>\n",
       "    </tr>\n",
       "  </tbody>\n",
       "</table>\n",
       "</div>"
      ],
      "text/plain": [
       "  State State Name  Year     Month           Period         Indicator  \\\n",
       "0    AK     Alaska  2015   January  12 month-ending  Number of Deaths   \n",
       "1    AK     Alaska  2015  February  12 month-ending  Number of Deaths   \n",
       "2    AK     Alaska  2015     March  12 month-ending  Number of Deaths   \n",
       "3    AK     Alaska  2015     April  12 month-ending  Number of Deaths   \n",
       "4    AK     Alaska  2015       May  12 month-ending  Number of Deaths   \n",
       "\n",
       "  Data Value Percent Complete  Percent Pending Investigation Footnote  \n",
       "0      4,034              100                            0.0      NaN  \n",
       "1      4,084              100                            0.0      NaN  \n",
       "2      4,101              100                            0.0      NaN  \n",
       "3      4,133              100                            0.0      NaN  \n",
       "4      4,196              100                            0.0      NaN  "
      ]
     },
     "execution_count": 63,
     "metadata": {},
     "output_type": "execute_result"
    }
   ],
   "source": [
    "new_df = pd.read_csv(\"VSRR_Provisional_Drug_Overdose_Death_Counts.csv\")\n",
    "new_df.head()"
   ]
  },
  {
   "cell_type": "code",
   "execution_count": 64,
   "metadata": {},
   "outputs": [
    {
     "data": {
      "text/html": [
       "<div>\n",
       "<table border=\"1\" class=\"dataframe\">\n",
       "  <thead>\n",
       "    <tr style=\"text-align: right;\">\n",
       "      <th></th>\n",
       "      <th>State</th>\n",
       "      <th>State Name</th>\n",
       "      <th>Year</th>\n",
       "      <th>Month</th>\n",
       "      <th>Period</th>\n",
       "      <th>Indicator</th>\n",
       "      <th>Data Value</th>\n",
       "      <th>Percent Complete</th>\n",
       "      <th>Percent Pending Investigation</th>\n",
       "      <th>Footnote</th>\n",
       "    </tr>\n",
       "  </thead>\n",
       "  <tbody>\n",
       "    <tr>\n",
       "      <th>5359</th>\n",
       "      <td>US</td>\n",
       "      <td>United States</td>\n",
       "      <td>2016</td>\n",
       "      <td>December</td>\n",
       "      <td>12 month-ending</td>\n",
       "      <td>Number of Drug Overdose Deaths</td>\n",
       "      <td>64,116</td>\n",
       "      <td>100</td>\n",
       "      <td>0.147854</td>\n",
       "      <td>NaN</td>\n",
       "    </tr>\n",
       "  </tbody>\n",
       "</table>\n",
       "</div>"
      ],
      "text/plain": [
       "     State     State Name  Year     Month           Period  \\\n",
       "5359    US  United States  2016  December  12 month-ending   \n",
       "\n",
       "                           Indicator Data Value Percent Complete  \\\n",
       "5359  Number of Drug Overdose Deaths     64,116              100   \n",
       "\n",
       "      Percent Pending Investigation Footnote  \n",
       "5359                       0.147854      NaN  "
      ]
     },
     "execution_count": 64,
     "metadata": {},
     "output_type": "execute_result"
    }
   ],
   "source": [
    "gr_us = new_df.groupby(['State Name', 'Year', 'Month', 'Indicator'])\n",
    "df_2016 = gr_us.get_group(('United States', 2016, 'December', 'Number of Drug Overdose Deaths'))\n",
    "df_2016"
   ]
  },
  {
   "cell_type": "code",
   "execution_count": 65,
   "metadata": {},
   "outputs": [
    {
     "name": "stdout",
     "output_type": "stream",
     "text": [
      "Difference between predicted and actual: -4860.921875\n"
     ]
    }
   ],
   "source": [
    "resd_2016 = pred_2016 - 64116\n",
    "print('Difference between predicted and actual:', resd_2016)"
   ]
  },
  {
   "cell_type": "markdown",
   "metadata": {},
   "source": [
    "<h4>3.2.2 Hypothesis Testing</h4>\n",
    "<p> Our last step is to see whether the under-estimation of the prediction by 4860.921 (residual for 2016) number of deaths is just due to error in the polynomial fit model or significantly different from the error. </p>\n",
    "<p> <i>Null hypothesis: </i> The polyfit will under-estimate prediction due to recent increase in overdose rates.</p>\n",
    "<p> <i>Alternative hypothesis:</i> The polyfit will predict a significantly close value to the actual number.</p>\n",
    "<p> In order to do this, we will look at the difference between predicted and actual values for years 1999-2015. We will then plot 2016 residual (predicted - actual) along with residuals for 1999-2015 to see if 2016 number is an outlier. </p>"
   ]
  },
  {
   "cell_type": "code",
   "execution_count": 66,
   "metadata": {},
   "outputs": [
    {
     "data": {
      "text/html": [
       "<div>\n",
       "<table border=\"1\" class=\"dataframe\">\n",
       "  <thead>\n",
       "    <tr style=\"text-align: right;\">\n",
       "      <th></th>\n",
       "      <th>Year</th>\n",
       "      <th>Sex</th>\n",
       "      <th>Age</th>\n",
       "      <th>Race and Hispanic Origin</th>\n",
       "      <th>State</th>\n",
       "      <th>Deaths</th>\n",
       "      <th>Population</th>\n",
       "      <th>rate_percent</th>\n",
       "      <th>residual</th>\n",
       "    </tr>\n",
       "  </thead>\n",
       "  <tbody>\n",
       "    <tr>\n",
       "      <th>0</th>\n",
       "      <td>1999</td>\n",
       "      <td>Both Sexes</td>\n",
       "      <td>All Ages</td>\n",
       "      <td>All Races-All Origins</td>\n",
       "      <td>United States</td>\n",
       "      <td>16849</td>\n",
       "      <td>279040238</td>\n",
       "      <td>0.006038</td>\n",
       "      <td>-159.812500</td>\n",
       "    </tr>\n",
       "    <tr>\n",
       "      <th>1</th>\n",
       "      <td>2000</td>\n",
       "      <td>Both Sexes</td>\n",
       "      <td>All Ages</td>\n",
       "      <td>All Races-All Origins</td>\n",
       "      <td>United States</td>\n",
       "      <td>17415</td>\n",
       "      <td>281421906</td>\n",
       "      <td>0.006188</td>\n",
       "      <td>311.968750</td>\n",
       "    </tr>\n",
       "    <tr>\n",
       "      <th>2</th>\n",
       "      <td>2001</td>\n",
       "      <td>Both Sexes</td>\n",
       "      <td>All Ages</td>\n",
       "      <td>All Races-All Origins</td>\n",
       "      <td>United States</td>\n",
       "      <td>19394</td>\n",
       "      <td>284968955</td>\n",
       "      <td>0.006806</td>\n",
       "      <td>419.578125</td>\n",
       "    </tr>\n",
       "    <tr>\n",
       "      <th>3</th>\n",
       "      <td>2002</td>\n",
       "      <td>Both Sexes</td>\n",
       "      <td>All Ages</td>\n",
       "      <td>All Races-All Origins</td>\n",
       "      <td>United States</td>\n",
       "      <td>23518</td>\n",
       "      <td>287625193</td>\n",
       "      <td>0.008177</td>\n",
       "      <td>-1016.453125</td>\n",
       "    </tr>\n",
       "    <tr>\n",
       "      <th>4</th>\n",
       "      <td>2003</td>\n",
       "      <td>Both Sexes</td>\n",
       "      <td>All Ages</td>\n",
       "      <td>All Races-All Origins</td>\n",
       "      <td>United States</td>\n",
       "      <td>25785</td>\n",
       "      <td>290107933</td>\n",
       "      <td>0.008888</td>\n",
       "      <td>-356.015625</td>\n",
       "    </tr>\n",
       "  </tbody>\n",
       "</table>\n",
       "</div>"
      ],
      "text/plain": [
       "   Year         Sex       Age Race and Hispanic Origin          State  Deaths  \\\n",
       "0  1999  Both Sexes  All Ages    All Races-All Origins  United States   16849   \n",
       "1  2000  Both Sexes  All Ages    All Races-All Origins  United States   17415   \n",
       "2  2001  Both Sexes  All Ages    All Races-All Origins  United States   19394   \n",
       "3  2002  Both Sexes  All Ages    All Races-All Origins  United States   23518   \n",
       "4  2003  Both Sexes  All Ages    All Races-All Origins  United States   25785   \n",
       "\n",
       "   Population  rate_percent     residual  \n",
       "0   279040238      0.006038  -159.812500  \n",
       "1   281421906      0.006188   311.968750  \n",
       "2   284968955      0.006806   419.578125  \n",
       "3   287625193      0.008177 -1016.453125  \n",
       "4   290107933      0.008888  -356.015625  "
      ]
     },
     "execution_count": 66,
     "metadata": {},
     "output_type": "execute_result"
    }
   ],
   "source": [
    "# calculate prediction - actual and add as part of new column (residual)\n",
    "df_year['residual'] = np.polyval(pl_fit, df_year.Year) - df_year.Deaths\n",
    "df_year.head()"
   ]
  },
  {
   "cell_type": "markdown",
   "metadata": {},
   "source": [
    "<p>Calculate statistics: mean, standard deviation of the residuals for 1999-2015 </p>"
   ]
  },
  {
   "cell_type": "code",
   "execution_count": 67,
   "metadata": {},
   "outputs": [
    {
     "name": "stdout",
     "output_type": "stream",
     "text": [
      "mean:  0.456801470588  standard deviation:  705.370636041\n"
     ]
    }
   ],
   "source": [
    "mean_num = np.mean(np.array(df_year.residual.tolist())) # Mean\n",
    "std_num = np.std(np.array(df_year.residual.tolist())) # Standard Deviation\n",
    "print('mean: ', mean_num, ' standard deviation: ', std_num)"
   ]
  },
  {
   "cell_type": "code",
   "execution_count": 68,
   "metadata": {},
   "outputs": [
    {
     "data": {
      "image/png": "[encoded data removed]",
      "text/plain": [
       "<matplotlib.figure.Figure at 0x7f879a1d9f60>"
      ]
     },
     "metadata": {},
     "output_type": "display_data"
    }
   ],
   "source": [
    "# Graphing residual vs. time\n",
    "x = df_year.Year.tolist()\n",
    "x.append(2016)\n",
    "y = df_year.residual.tolist()\n",
    "y.append(resd_2016)\n",
    "\n",
    "plt.plot(x, y, label='Residual')\n",
    "plt.xlim(1998, 2016)\n",
    "\n",
    "# mean\n",
    "plt.axhline(y=mean_num, linestyle='--', color='r', label='Mean residual')\n",
    "plt.xlabel('Year')\n",
    "plt.ylabel('Residual')\n",
    "plt.title('Residual vs. Time')\n",
    "plt.legend(loc='lower left')\n",
    "plt.show()"
   ]
  },
  {
   "cell_type": "markdown",
   "metadata": {},
   "source": [
    "<p> From the graph alone, we can tell that there is a significant difference in the prediction of 2016 by the polnomial fit than the years prior. We will do a chi-square test from scipy.stats library for the sake of confirmation of this observation.  The test will reveal the p-value, which can be used to reject or keep the null hypothesis. Generally, a p-value <= 0.5 can be used to reject the null hypothesis. </p>"
   ]
  },
  {
   "cell_type": "code",
   "execution_count": 69,
   "metadata": {},
   "outputs": [
    {
     "data": {
      "text/plain": [
       "Power_divergenceResult(statistic=-114154.71147763051, pvalue=1.0)"
      ]
     },
     "execution_count": 69,
     "metadata": {},
     "output_type": "execute_result"
    }
   ],
   "source": [
    "# Chisquare test including the number of deaths including 2016\n",
    "chisquare(y)"
   ]
  },
  {
   "cell_type": "markdown",
   "metadata": {},
   "source": [
    "<p> The p-value is approximately 1, which means that we keep our null hypothesis which states that the polyfit will under-estimate prediction due to recent increase in overdose rates. Interestingly, removing the number of deaths for year 2016 brings the pvalue close to 0 (shown below).</p>"
   ]
  },
  {
   "cell_type": "code",
   "execution_count": 70,
   "metadata": {},
   "outputs": [
    {
     "data": {
      "text/plain": [
       "Power_divergenceResult(statistic=18516384.087650906, pvalue=0.0)"
      ]
     },
     "execution_count": 70,
     "metadata": {},
     "output_type": "execute_result"
    }
   ],
   "source": [
    "# We will use slice to remove the value for 2016, which is stored last\n",
    "chisquare(y[:len(y)-1])"
   ]
  },
  {
   "cell_type": "markdown",
   "metadata": {},
   "source": [
    "<h2>Conclusions</h2>\n",
    "<p>Based on the data, the increase in the mortality rate for drug poisoning differs by age group, race and sex. Males, Non-Hispancic White and those who are betweens the ages of 25-54 are more likely to die through drug poisoning than females, Hispanics and Non-Hispanic Blacks, and all other age groups.</p>\n",
    "\n",
    "<p>While this tutorial demonstrates the data life cycle using Python and its various libraries, we think it's also important that it sheds light on the astonishing increase through the years in the amount of deaths caused by drug poisoning, and to know the causes behind it. Is it easy access to these drugs or the lack of providing rehabilitation from the government? There are so many possibilities, and it is vital that this issue gets more focus than what it currently has to save more lives. Maybe it would be a nice data science project for you to work on.</p>\n",
    "\n",
    "<p>Thank you for going through our tutorial and we hope that this tutorial is helpful to you, both in learning about the data life cycle and about an important issue in our society.</p>"
   ]
  },
  {
   "cell_type": "markdown",
   "metadata": {},
   "source": [
    "<h2><a name=\"references\"></a>References</h2>\n",
    "<ol>\n",
    "    <li>First Data Set: <a href=\"https://catalog.data.gov/dataset/drug-poisoning-mortality-u-s-and-state-trends-united-states-20022014\">NCHS_Drug_Poisoning_Mortality_by_State_United_States.csv</a>\n",
    "    <li>Second Data Set: <a href=\"https://www.cdc.gov/nchs/nvss/vsrr/drug-overdose-data.htm\"> VSRR_Provisional_Drug_Overdose_Death_Counts.csv</a>\n",
    "    <li><a href=\"https://docs.docker.com/engine/installation/\">Docker</a>\n",
    "    <li><a href=\"https://conda.io/docs/user-guide/install/index.html\">Anaconda</a>\n",
    "    <li><a href=\"http://www.gregreda.com/2013/10/26/intro-to-pandas-data-structures/\">Pandas Tutorial</a></li>\n",
    "    <li><a href=\"https://docs.scipy.org/doc/numpy-dev/user/quickstart.html\">Numpy Tutorial</a></li>\n",
    "    <li><a href=\"https://matplotlib.org/2.0.2/users/pyplot_tutorial.html\">Matplotlib.pyplot Tutorial</a></li>\n",
    "    <li><a href=\"http://scikit-learn.org/stable/\">Scikit-learn Tutorial</a></li>\n",
    "    <li><a href=\"https://plot.ly/python/choropleth-maps/\">Plotly Tutorial</a>, really cool stuff!</li>\n",
    "    <li><a href=\"https://docs.scipy.org/doc/scipy/reference/generated/scipy.stats.chisquare.html\">Scipy.stats chisquare</li>\n",
    "    <li>Image credits: <a href=\"http://pinnacleemergency.co/drug-overdoses-and-accidental-poisoning/\">http://pinnacleemergency.co/drug-overdoses-and-accidental-poisoning/</a>, <a href=\"http://www.womenshealth.northwestern.edu/blog/unintentional-drug-poisoning-rise\">http://www.womenshealth.northwestern.edu/blog/unintentional-drug-poisoning-rise</a>, <a href=\"https://www.emedicinehealth.com/drug_overdose/article_em.htm\">https://www.emedicinehealth.com/drug_overdose/article_em.htm</a>, <a href=\"https://drugabuse.com/library/drug-overdose/\">https://drugabuse.com/library/drug-overdose/</a></li>\n",
    "    \n",
    "</ol>"
   ]
  }
 ],
 "metadata": {
  "kernelspec": {
   "display_name": "Python 3",
   "language": "python",
   "name": "python3"
  },
  "language_info": {
   "codemirror_mode": {
    "name": "ipython",
    "version": 3
   },
   "file_extension": ".py",
   "mimetype": "text/x-python",
   "name": "python",
   "nbconvert_exporter": "python",
   "pygments_lexer": "ipython3",
   "version": "3.6.2"
  }
 },
 "nbformat": 4,
 "nbformat_minor": 2
}
